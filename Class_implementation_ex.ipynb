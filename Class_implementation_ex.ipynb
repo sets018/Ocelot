{
 "cells": [
  {
   "cell_type": "code",
   "execution_count": 1,
   "metadata": {},
   "outputs": [],
   "source": [
    "from abc import ABC, abstractmethod\n",
    "from typing import Optional, Union, Iterable\n",
    "from collections.abc import Iterator\n",
    "import pandas as pd\n",
    "import sklearn\n",
    "from sklearn.model_selection import train_test_split"
   ]
  },
  {
   "cell_type": "code",
   "execution_count": 2,
   "metadata": {},
   "outputs": [],
   "source": [
    "import numpy as np"
   ]
  },
  {
   "cell_type": "code",
   "execution_count": 189,
   "metadata": {},
   "outputs": [
    {
     "data": {
      "text/html": [
       "<div>\n",
       "<style scoped>\n",
       "    .dataframe tbody tr th:only-of-type {\n",
       "        vertical-align: middle;\n",
       "    }\n",
       "\n",
       "    .dataframe tbody tr th {\n",
       "        vertical-align: top;\n",
       "    }\n",
       "\n",
       "    .dataframe thead th {\n",
       "        text-align: right;\n",
       "    }\n",
       "</style>\n",
       "<table border=\"1\" class=\"dataframe\">\n",
       "  <thead>\n",
       "    <tr style=\"text-align: right;\">\n",
       "      <th></th>\n",
       "      <th>index</th>\n",
       "      <th>post_id</th>\n",
       "      <th>estrato</th>\n",
       "      <th>Area</th>\n",
       "      <th>bedrooms</th>\n",
       "      <th>bathrooms</th>\n",
       "      <th>garages</th>\n",
       "      <th>Price</th>\n",
       "    </tr>\n",
       "  </thead>\n",
       "  <tbody>\n",
       "    <tr>\n",
       "      <th>count</th>\n",
       "      <td>9497.000000</td>\n",
       "      <td>9.497000e+03</td>\n",
       "      <td>9497.000000</td>\n",
       "      <td>9497.000000</td>\n",
       "      <td>9497.000000</td>\n",
       "      <td>9497.000000</td>\n",
       "      <td>9497.000000</td>\n",
       "      <td>9.497000e+03</td>\n",
       "    </tr>\n",
       "    <tr>\n",
       "      <th>mean</th>\n",
       "      <td>1212.262715</td>\n",
       "      <td>6.104147e+06</td>\n",
       "      <td>4.107297</td>\n",
       "      <td>155.906391</td>\n",
       "      <td>3.133095</td>\n",
       "      <td>2.543329</td>\n",
       "      <td>1.118353</td>\n",
       "      <td>7.045135e+08</td>\n",
       "    </tr>\n",
       "    <tr>\n",
       "      <th>std</th>\n",
       "      <td>987.692246</td>\n",
       "      <td>1.152608e+06</td>\n",
       "      <td>0.824518</td>\n",
       "      <td>130.409756</td>\n",
       "      <td>1.505738</td>\n",
       "      <td>1.222353</td>\n",
       "      <td>0.899954</td>\n",
       "      <td>1.279075e+10</td>\n",
       "    </tr>\n",
       "    <tr>\n",
       "      <th>min</th>\n",
       "      <td>1.000000</td>\n",
       "      <td>9.098480e+05</td>\n",
       "      <td>1.000000</td>\n",
       "      <td>1.000000</td>\n",
       "      <td>0.000000</td>\n",
       "      <td>0.000000</td>\n",
       "      <td>0.000000</td>\n",
       "      <td>1.500000e+07</td>\n",
       "    </tr>\n",
       "    <tr>\n",
       "      <th>25%</th>\n",
       "      <td>346.000000</td>\n",
       "      <td>5.439663e+06</td>\n",
       "      <td>4.000000</td>\n",
       "      <td>80.000000</td>\n",
       "      <td>3.000000</td>\n",
       "      <td>2.000000</td>\n",
       "      <td>1.000000</td>\n",
       "      <td>2.400000e+08</td>\n",
       "    </tr>\n",
       "    <tr>\n",
       "      <th>50%</th>\n",
       "      <td>905.000000</td>\n",
       "      <td>6.569660e+06</td>\n",
       "      <td>4.000000</td>\n",
       "      <td>110.000000</td>\n",
       "      <td>3.000000</td>\n",
       "      <td>2.000000</td>\n",
       "      <td>1.000000</td>\n",
       "      <td>3.400000e+08</td>\n",
       "    </tr>\n",
       "    <tr>\n",
       "      <th>75%</th>\n",
       "      <td>2044.000000</td>\n",
       "      <td>7.018111e+06</td>\n",
       "      <td>5.000000</td>\n",
       "      <td>175.000000</td>\n",
       "      <td>3.000000</td>\n",
       "      <td>3.000000</td>\n",
       "      <td>1.000000</td>\n",
       "      <td>5.200000e+08</td>\n",
       "    </tr>\n",
       "    <tr>\n",
       "      <th>max</th>\n",
       "      <td>3400.000000</td>\n",
       "      <td>7.196630e+06</td>\n",
       "      <td>5.000000</td>\n",
       "      <td>990.000000</td>\n",
       "      <td>20.000000</td>\n",
       "      <td>10.000000</td>\n",
       "      <td>10.000000</td>\n",
       "      <td>9.000000e+11</td>\n",
       "    </tr>\n",
       "  </tbody>\n",
       "</table>\n",
       "</div>"
      ],
      "text/plain": [
       "             index       post_id      estrato         Area     bedrooms  \\\n",
       "count  9497.000000  9.497000e+03  9497.000000  9497.000000  9497.000000   \n",
       "mean   1212.262715  6.104147e+06     4.107297   155.906391     3.133095   \n",
       "std     987.692246  1.152608e+06     0.824518   130.409756     1.505738   \n",
       "min       1.000000  9.098480e+05     1.000000     1.000000     0.000000   \n",
       "25%     346.000000  5.439663e+06     4.000000    80.000000     3.000000   \n",
       "50%     905.000000  6.569660e+06     4.000000   110.000000     3.000000   \n",
       "75%    2044.000000  7.018111e+06     5.000000   175.000000     3.000000   \n",
       "max    3400.000000  7.196630e+06     5.000000   990.000000    20.000000   \n",
       "\n",
       "         bathrooms      garages         Price  \n",
       "count  9497.000000  9497.000000  9.497000e+03  \n",
       "mean      2.543329     1.118353  7.045135e+08  \n",
       "std       1.222353     0.899954  1.279075e+10  \n",
       "min       0.000000     0.000000  1.500000e+07  \n",
       "25%       2.000000     1.000000  2.400000e+08  \n",
       "50%       2.000000     1.000000  3.400000e+08  \n",
       "75%       3.000000     1.000000  5.200000e+08  \n",
       "max      10.000000    10.000000  9.000000e+11  "
      ]
     },
     "execution_count": 189,
     "metadata": {},
     "output_type": "execute_result"
    }
   ],
   "source": [
    "df.describe()"
   ]
  },
  {
   "cell_type": "code",
   "execution_count": 34,
   "metadata": {},
   "outputs": [
    {
     "data": {
      "text/plain": [
       "pandas.core.frame.DataFrame"
      ]
     },
     "execution_count": 34,
     "metadata": {},
     "output_type": "execute_result"
    }
   ],
   "source": [
    "type(df_subset.iloc[:, :-1])"
   ]
  },
  {
   "cell_type": "code",
   "execution_count": 35,
   "metadata": {},
   "outputs": [
    {
     "data": {
      "text/plain": [
       "pandas.core.series.Series"
      ]
     },
     "execution_count": 35,
     "metadata": {},
     "output_type": "execute_result"
    }
   ],
   "source": [
    "type(df_subset.iloc[:, -1])"
   ]
  },
  {
   "cell_type": "code",
   "execution_count": 144,
   "metadata": {},
   "outputs": [],
   "source": [
    "class df_data_source():\n",
    "    def __init__(self,data_source):\n",
    "        self.data_source = data_source\n",
    "    def split_data(self,test_size_):\n",
    "        self.test_size_ = test_size_\n",
    "        self.price_subset = self.data_source.iloc[:, -1].values\n",
    "        self.non_price_subset = self.data_source.iloc[:, :-1].values\n",
    "        self.price_subset_train, self.price_subset_test,self.data_subset_train, self.data_subset_test = train_test_split(self.price_subset, self.non_price_subset, test_size=self.test_size_, shuffle=True, random_state=0, train_size=0.3)\n",
    "    def reshape_data(self):\n",
    "        self.price_subset_train = self.price_subset_train.reshape(-1, 1)\n",
    "        self.price_subset_test = self.price_subset_train.reshape(-1, 1)\n",
    "\n",
    "class Predictor():\n",
    "    def __init__(self,source_model):\n",
    "        self.source_model = source_model\n",
    "    def get_prediction(self,prediction_data):\n",
    "        estimated_price = self.source_model.predict(prediction_data)\n",
    "\n",
    "class Prediction_data():\n",
    "    def __init__(self,estrato,area,bedrooms,bathrooms,garages):\n",
    "        self.estrato = estrato\n",
    "        self.area = area\n",
    "        self.bedrooms = bedrooms\n",
    "        self.bathrooms = bathrooms\n",
    "        self.garages = garages\n",
    "        self.list = []\n",
    "        self.prediction_array = np.array(self.list)\n",
    "    def get_prediction_array(self):\n",
    "        self.list = [self.estrato, self.area, self.bedrooms, self.bathrooms, self.garages]\n",
    "        self.prediction_array = np.array(self.list)  \n",
    "        self.prediction_array = self.prediction_array.reshape(1,-1)"
   ]
  },
  {
   "cell_type": "code",
   "execution_count": 199,
   "metadata": {},
   "outputs": [],
   "source": [
    "class data(ABC):\n",
    "    @abstractmethod\n",
    "    def load_data(self,data_list,data_source):\n",
    "        for i,row  in data_source.iterrows():\n",
    "            data = House_data(\n",
    "            condition = row[\"condition\"],\n",
    "            property_type = row[\"property_type\"],\n",
    "            neighborhood = row[\"neighborhood\"],\n",
    "            estrato = row[\"estrato\"],\n",
    "            area = row[\"area\"],\n",
    "            bedrooms = row[\"bedrooms\"],\n",
    "            bathrooms = row[\"bathrooms\"],\n",
    "            garages = row[\"garages\"],\n",
    "            price = row[\"price\"])\n",
    "        data_list.append(data)\n",
    "        \n",
    "class Training_data(data):\n",
    "    def __init__(self,training_data):\n",
    "        self.training_data : list[House_data] = []\n",
    "\n",
    "class Testing_data(data):\n",
    "    def __init__(self,testing_data):\n",
    "        self.testing_data : list[House_data] = []\n",
    "        \n",
    "class House_data():\n",
    "    def __init__(\n",
    "        self,\n",
    "        condition : str,\n",
    "        property_type : str,\n",
    "        neighborhood : str,\n",
    "        estrato : int,\n",
    "        area : int,\n",
    "        bedrooms : int,\n",
    "        bathrooms : int,\n",
    "        garages : int,\n",
    "        price: Optional[int]\n",
    "       ):\n",
    "        self.condition = condition\n",
    "        self.property_type = property_type\n",
    "        self.neighborhood = neighborhood\n",
    "        self.estrato = estrato\n",
    "        self.area = area\n",
    "        self.bedrooms = bedrooms\n",
    "        self.bathrooms = bathrooms\n",
    "        self.garages = garages\n",
    "        self.price: Optional[int]"
   ]
  },
  {
   "cell_type": "code",
   "execution_count": 5,
   "metadata": {},
   "outputs": [],
   "source": [
    "df = pd.read_csv(\"C:\\\\Users\\\\ends0\\\\Downloads\\\\df_posts_housing.csv\")"
   ]
  },
  {
   "cell_type": "code",
   "execution_count": 6,
   "metadata": {},
   "outputs": [
    {
     "data": {
      "text/html": [
       "<div>\n",
       "<style scoped>\n",
       "    .dataframe tbody tr th:only-of-type {\n",
       "        vertical-align: middle;\n",
       "    }\n",
       "\n",
       "    .dataframe tbody tr th {\n",
       "        vertical-align: top;\n",
       "    }\n",
       "\n",
       "    .dataframe thead th {\n",
       "        text-align: right;\n",
       "    }\n",
       "</style>\n",
       "<table border=\"1\" class=\"dataframe\">\n",
       "  <thead>\n",
       "    <tr style=\"text-align: right;\">\n",
       "      <th></th>\n",
       "      <th>index</th>\n",
       "      <th>post_id</th>\n",
       "      <th>post_title</th>\n",
       "      <th>bussiness_type</th>\n",
       "      <th>condition</th>\n",
       "      <th>estrato</th>\n",
       "      <th>property_type</th>\n",
       "      <th>city</th>\n",
       "      <th>neighborhood</th>\n",
       "      <th>Area</th>\n",
       "      <th>bedrooms</th>\n",
       "      <th>bathrooms</th>\n",
       "      <th>garages</th>\n",
       "      <th>post_link</th>\n",
       "      <th>Price</th>\n",
       "    </tr>\n",
       "  </thead>\n",
       "  <tbody>\n",
       "    <tr>\n",
       "      <th>0</th>\n",
       "      <td>1</td>\n",
       "      <td>7172619</td>\n",
       "      <td>Usado$250.000.000 COP224m² • 3ha. • 1ba.villac...</td>\n",
       "      <td>Venta</td>\n",
       "      <td>Usado</td>\n",
       "      <td>1</td>\n",
       "      <td>Casa</td>\n",
       "      <td>barranquilla</td>\n",
       "      <td>villacevilla</td>\n",
       "      <td>224</td>\n",
       "      <td>3</td>\n",
       "      <td>1</td>\n",
       "      <td>0</td>\n",
       "      <td>https://www.fincaraiz.com.co/inmueble/casa-en-...</td>\n",
       "      <td>250000000</td>\n",
       "    </tr>\n",
       "    <tr>\n",
       "      <th>1</th>\n",
       "      <td>2</td>\n",
       "      <td>7127871</td>\n",
       "      <td>UsadoInmobiliaria$240.000.000 COP88m² • 3ha. •...</td>\n",
       "      <td>Venta</td>\n",
       "      <td>Usado</td>\n",
       "      <td>1</td>\n",
       "      <td>Apartamento</td>\n",
       "      <td>barranquilla</td>\n",
       "      <td>el-prado</td>\n",
       "      <td>88</td>\n",
       "      <td>3</td>\n",
       "      <td>2</td>\n",
       "      <td>1</td>\n",
       "      <td>https://www.fincaraiz.com.co/inmueble/apartame...</td>\n",
       "      <td>240000000</td>\n",
       "    </tr>\n",
       "    <tr>\n",
       "      <th>2</th>\n",
       "      <td>3</td>\n",
       "      <td>7187797</td>\n",
       "      <td>Usado$70.000.000 COP104m² • 3ha. • 1ba.bosque ...</td>\n",
       "      <td>Venta</td>\n",
       "      <td>Usado</td>\n",
       "      <td>1</td>\n",
       "      <td>Casa</td>\n",
       "      <td>barranquilla</td>\n",
       "      <td>bosque</td>\n",
       "      <td>104</td>\n",
       "      <td>3</td>\n",
       "      <td>1</td>\n",
       "      <td>0</td>\n",
       "      <td>https://www.fincaraiz.com.co/inmueble/casa-en-...</td>\n",
       "      <td>70000000</td>\n",
       "    </tr>\n",
       "    <tr>\n",
       "      <th>3</th>\n",
       "      <td>4</td>\n",
       "      <td>7037686</td>\n",
       "      <td>UsadoInmobiliaria$1.200.000.000 COP600m² • 3ba...</td>\n",
       "      <td>Venta</td>\n",
       "      <td>Usado</td>\n",
       "      <td>1</td>\n",
       "      <td>Casa</td>\n",
       "      <td>barranquilla</td>\n",
       "      <td>alto-prado</td>\n",
       "      <td>600</td>\n",
       "      <td>3</td>\n",
       "      <td>5</td>\n",
       "      <td>0</td>\n",
       "      <td>https://www.fincaraiz.com.co/inmueble/casa-en-...</td>\n",
       "      <td>1200000000</td>\n",
       "    </tr>\n",
       "    <tr>\n",
       "      <th>4</th>\n",
       "      <td>5</td>\n",
       "      <td>7162861</td>\n",
       "      <td>UsadoInmobiliaria$350.000.000 COP4m² • 3ha. • ...</td>\n",
       "      <td>Venta</td>\n",
       "      <td>Usado</td>\n",
       "      <td>1</td>\n",
       "      <td>Casa</td>\n",
       "      <td>barranquilla</td>\n",
       "      <td>paraiso</td>\n",
       "      <td>4</td>\n",
       "      <td>3</td>\n",
       "      <td>3</td>\n",
       "      <td>1</td>\n",
       "      <td>https://www.fincaraiz.com.co/inmueble/casa-en-...</td>\n",
       "      <td>350000000</td>\n",
       "    </tr>\n",
       "  </tbody>\n",
       "</table>\n",
       "</div>"
      ],
      "text/plain": [
       "   index  post_id                                         post_title  \\\n",
       "0      1  7172619  Usado$250.000.000 COP224m² • 3ha. • 1ba.villac...   \n",
       "1      2  7127871  UsadoInmobiliaria$240.000.000 COP88m² • 3ha. •...   \n",
       "2      3  7187797  Usado$70.000.000 COP104m² • 3ha. • 1ba.bosque ...   \n",
       "3      4  7037686  UsadoInmobiliaria$1.200.000.000 COP600m² • 3ba...   \n",
       "4      5  7162861  UsadoInmobiliaria$350.000.000 COP4m² • 3ha. • ...   \n",
       "\n",
       "  bussiness_type condition  estrato property_type          city  neighborhood  \\\n",
       "0          Venta     Usado        1          Casa  barranquilla  villacevilla   \n",
       "1          Venta     Usado        1   Apartamento  barranquilla      el-prado   \n",
       "2          Venta     Usado        1          Casa  barranquilla        bosque   \n",
       "3          Venta     Usado        1          Casa  barranquilla    alto-prado   \n",
       "4          Venta     Usado        1          Casa  barranquilla       paraiso   \n",
       "\n",
       "   Area  bedrooms  bathrooms  garages  \\\n",
       "0   224         3          1        0   \n",
       "1    88         3          2        1   \n",
       "2   104         3          1        0   \n",
       "3   600         3          5        0   \n",
       "4     4         3          3        1   \n",
       "\n",
       "                                           post_link       Price  \n",
       "0  https://www.fincaraiz.com.co/inmueble/casa-en-...   250000000  \n",
       "1  https://www.fincaraiz.com.co/inmueble/apartame...   240000000  \n",
       "2  https://www.fincaraiz.com.co/inmueble/casa-en-...    70000000  \n",
       "3  https://www.fincaraiz.com.co/inmueble/casa-en-...  1200000000  \n",
       "4  https://www.fincaraiz.com.co/inmueble/casa-en-...   350000000  "
      ]
     },
     "execution_count": 6,
     "metadata": {},
     "output_type": "execute_result"
    }
   ],
   "source": [
    "df.head()"
   ]
  },
  {
   "cell_type": "code",
   "execution_count": 7,
   "metadata": {},
   "outputs": [
    {
     "data": {
      "text/html": [
       "<div>\n",
       "<style scoped>\n",
       "    .dataframe tbody tr th:only-of-type {\n",
       "        vertical-align: middle;\n",
       "    }\n",
       "\n",
       "    .dataframe tbody tr th {\n",
       "        vertical-align: top;\n",
       "    }\n",
       "\n",
       "    .dataframe thead th {\n",
       "        text-align: right;\n",
       "    }\n",
       "</style>\n",
       "<table border=\"1\" class=\"dataframe\">\n",
       "  <thead>\n",
       "    <tr style=\"text-align: right;\">\n",
       "      <th></th>\n",
       "      <th>index</th>\n",
       "      <th>post_id</th>\n",
       "      <th>post_title</th>\n",
       "      <th>bussiness_type</th>\n",
       "      <th>condition</th>\n",
       "      <th>estrato</th>\n",
       "      <th>property_type</th>\n",
       "      <th>city</th>\n",
       "      <th>neighborhood</th>\n",
       "      <th>Area</th>\n",
       "      <th>bedrooms</th>\n",
       "      <th>bathrooms</th>\n",
       "      <th>garages</th>\n",
       "      <th>post_link</th>\n",
       "      <th>Price</th>\n",
       "    </tr>\n",
       "  </thead>\n",
       "  <tbody>\n",
       "    <tr>\n",
       "      <th>9492</th>\n",
       "      <td>3396</td>\n",
       "      <td>7091439</td>\n",
       "      <td>UsadoInmobiliaria$260.000.000 COP60m² • 2ha. •...</td>\n",
       "      <td>Venta</td>\n",
       "      <td>Usado</td>\n",
       "      <td>5</td>\n",
       "      <td>Apartamento</td>\n",
       "      <td>barranquilla</td>\n",
       "      <td>ciudad-jardin</td>\n",
       "      <td>60</td>\n",
       "      <td>2</td>\n",
       "      <td>1</td>\n",
       "      <td>1</td>\n",
       "      <td>https://www.fincaraiz.com.co/inmueble/apartame...</td>\n",
       "      <td>260000000</td>\n",
       "    </tr>\n",
       "    <tr>\n",
       "      <th>9493</th>\n",
       "      <td>3397</td>\n",
       "      <td>6903421</td>\n",
       "      <td>UsadoInmobiliaria$480.000.000 COP110,12m² • 4h...</td>\n",
       "      <td>Venta</td>\n",
       "      <td>Usado</td>\n",
       "      <td>5</td>\n",
       "      <td>Apartamento</td>\n",
       "      <td>barranquilla</td>\n",
       "      <td>villa-santos</td>\n",
       "      <td>110</td>\n",
       "      <td>4</td>\n",
       "      <td>5</td>\n",
       "      <td>0</td>\n",
       "      <td>https://www.fincaraiz.com.co/inmueble/apartame...</td>\n",
       "      <td>480000000</td>\n",
       "    </tr>\n",
       "    <tr>\n",
       "      <th>9494</th>\n",
       "      <td>3398</td>\n",
       "      <td>7170150</td>\n",
       "      <td>UsadoInmobiliaria$320.000.000 COP112m² • 3ha. ...</td>\n",
       "      <td>Venta</td>\n",
       "      <td>Usado</td>\n",
       "      <td>5</td>\n",
       "      <td>Apartamento</td>\n",
       "      <td>barranquilla</td>\n",
       "      <td>ciudad-jardin</td>\n",
       "      <td>112</td>\n",
       "      <td>3</td>\n",
       "      <td>2</td>\n",
       "      <td>1</td>\n",
       "      <td>https://www.fincaraiz.com.co/inmueble/apartame...</td>\n",
       "      <td>320000000</td>\n",
       "    </tr>\n",
       "    <tr>\n",
       "      <th>9495</th>\n",
       "      <td>3399</td>\n",
       "      <td>5818751</td>\n",
       "      <td>UsadoInmobiliaria$720.000.000 COP512m² • 4ha. ...</td>\n",
       "      <td>Venta</td>\n",
       "      <td>Usado</td>\n",
       "      <td>5</td>\n",
       "      <td>Casa</td>\n",
       "      <td>barranquilla</td>\n",
       "      <td>ciudad-jardin</td>\n",
       "      <td>512</td>\n",
       "      <td>4</td>\n",
       "      <td>4</td>\n",
       "      <td>2</td>\n",
       "      <td>https://www.fincaraiz.com.co/inmueble/casa-en-...</td>\n",
       "      <td>720000000</td>\n",
       "    </tr>\n",
       "    <tr>\n",
       "      <th>9496</th>\n",
       "      <td>3400</td>\n",
       "      <td>7064589</td>\n",
       "      <td>UsadoInmobiliaria$400.000.000 COP98m² • 3ha. •...</td>\n",
       "      <td>Venta</td>\n",
       "      <td>Usado</td>\n",
       "      <td>5</td>\n",
       "      <td>Apartamento</td>\n",
       "      <td>barranquilla</td>\n",
       "      <td>ciudad-jardin</td>\n",
       "      <td>98</td>\n",
       "      <td>3</td>\n",
       "      <td>3</td>\n",
       "      <td>1</td>\n",
       "      <td>https://www.fincaraiz.com.co/inmueble/apartame...</td>\n",
       "      <td>400000000</td>\n",
       "    </tr>\n",
       "  </tbody>\n",
       "</table>\n",
       "</div>"
      ],
      "text/plain": [
       "      index  post_id                                         post_title  \\\n",
       "9492   3396  7091439  UsadoInmobiliaria$260.000.000 COP60m² • 2ha. •...   \n",
       "9493   3397  6903421  UsadoInmobiliaria$480.000.000 COP110,12m² • 4h...   \n",
       "9494   3398  7170150  UsadoInmobiliaria$320.000.000 COP112m² • 3ha. ...   \n",
       "9495   3399  5818751  UsadoInmobiliaria$720.000.000 COP512m² • 4ha. ...   \n",
       "9496   3400  7064589  UsadoInmobiliaria$400.000.000 COP98m² • 3ha. •...   \n",
       "\n",
       "     bussiness_type condition  estrato property_type          city  \\\n",
       "9492          Venta     Usado        5   Apartamento  barranquilla   \n",
       "9493          Venta     Usado        5   Apartamento  barranquilla   \n",
       "9494          Venta     Usado        5   Apartamento  barranquilla   \n",
       "9495          Venta     Usado        5          Casa  barranquilla   \n",
       "9496          Venta     Usado        5   Apartamento  barranquilla   \n",
       "\n",
       "       neighborhood  Area  bedrooms  bathrooms  garages  \\\n",
       "9492  ciudad-jardin    60         2          1        1   \n",
       "9493   villa-santos   110         4          5        0   \n",
       "9494  ciudad-jardin   112         3          2        1   \n",
       "9495  ciudad-jardin   512         4          4        2   \n",
       "9496  ciudad-jardin    98         3          3        1   \n",
       "\n",
       "                                              post_link      Price  \n",
       "9492  https://www.fincaraiz.com.co/inmueble/apartame...  260000000  \n",
       "9493  https://www.fincaraiz.com.co/inmueble/apartame...  480000000  \n",
       "9494  https://www.fincaraiz.com.co/inmueble/apartame...  320000000  \n",
       "9495  https://www.fincaraiz.com.co/inmueble/casa-en-...  720000000  \n",
       "9496  https://www.fincaraiz.com.co/inmueble/apartame...  400000000  "
      ]
     },
     "execution_count": 7,
     "metadata": {},
     "output_type": "execute_result"
    }
   ],
   "source": [
    "df.tail()"
   ]
  },
  {
   "cell_type": "code",
   "execution_count": 8,
   "metadata": {},
   "outputs": [],
   "source": [
    "df_subset = df[df[\"neighborhood\"] == \"el-prado\"]"
   ]
  },
  {
   "cell_type": "code",
   "execution_count": 9,
   "metadata": {},
   "outputs": [],
   "source": [
    "df_subset = df"
   ]
  },
  {
   "cell_type": "code",
   "execution_count": 10,
   "metadata": {},
   "outputs": [
    {
     "data": {
      "text/html": [
       "<div>\n",
       "<style scoped>\n",
       "    .dataframe tbody tr th:only-of-type {\n",
       "        vertical-align: middle;\n",
       "    }\n",
       "\n",
       "    .dataframe tbody tr th {\n",
       "        vertical-align: top;\n",
       "    }\n",
       "\n",
       "    .dataframe thead th {\n",
       "        text-align: right;\n",
       "    }\n",
       "</style>\n",
       "<table border=\"1\" class=\"dataframe\">\n",
       "  <thead>\n",
       "    <tr style=\"text-align: right;\">\n",
       "      <th></th>\n",
       "      <th>index</th>\n",
       "      <th>post_id</th>\n",
       "      <th>post_title</th>\n",
       "      <th>bussiness_type</th>\n",
       "      <th>condition</th>\n",
       "      <th>estrato</th>\n",
       "      <th>property_type</th>\n",
       "      <th>city</th>\n",
       "      <th>neighborhood</th>\n",
       "      <th>Area</th>\n",
       "      <th>bedrooms</th>\n",
       "      <th>bathrooms</th>\n",
       "      <th>garages</th>\n",
       "      <th>post_link</th>\n",
       "      <th>Price</th>\n",
       "    </tr>\n",
       "  </thead>\n",
       "  <tbody>\n",
       "    <tr>\n",
       "      <th>0</th>\n",
       "      <td>1</td>\n",
       "      <td>7172619</td>\n",
       "      <td>Usado$250.000.000 COP224m² • 3ha. • 1ba.villac...</td>\n",
       "      <td>Venta</td>\n",
       "      <td>Usado</td>\n",
       "      <td>1</td>\n",
       "      <td>Casa</td>\n",
       "      <td>barranquilla</td>\n",
       "      <td>villacevilla</td>\n",
       "      <td>224</td>\n",
       "      <td>3</td>\n",
       "      <td>1</td>\n",
       "      <td>0</td>\n",
       "      <td>https://www.fincaraiz.com.co/inmueble/casa-en-...</td>\n",
       "      <td>250000000</td>\n",
       "    </tr>\n",
       "    <tr>\n",
       "      <th>1</th>\n",
       "      <td>2</td>\n",
       "      <td>7127871</td>\n",
       "      <td>UsadoInmobiliaria$240.000.000 COP88m² • 3ha. •...</td>\n",
       "      <td>Venta</td>\n",
       "      <td>Usado</td>\n",
       "      <td>1</td>\n",
       "      <td>Apartamento</td>\n",
       "      <td>barranquilla</td>\n",
       "      <td>el-prado</td>\n",
       "      <td>88</td>\n",
       "      <td>3</td>\n",
       "      <td>2</td>\n",
       "      <td>1</td>\n",
       "      <td>https://www.fincaraiz.com.co/inmueble/apartame...</td>\n",
       "      <td>240000000</td>\n",
       "    </tr>\n",
       "    <tr>\n",
       "      <th>2</th>\n",
       "      <td>3</td>\n",
       "      <td>7187797</td>\n",
       "      <td>Usado$70.000.000 COP104m² • 3ha. • 1ba.bosque ...</td>\n",
       "      <td>Venta</td>\n",
       "      <td>Usado</td>\n",
       "      <td>1</td>\n",
       "      <td>Casa</td>\n",
       "      <td>barranquilla</td>\n",
       "      <td>bosque</td>\n",
       "      <td>104</td>\n",
       "      <td>3</td>\n",
       "      <td>1</td>\n",
       "      <td>0</td>\n",
       "      <td>https://www.fincaraiz.com.co/inmueble/casa-en-...</td>\n",
       "      <td>70000000</td>\n",
       "    </tr>\n",
       "    <tr>\n",
       "      <th>3</th>\n",
       "      <td>4</td>\n",
       "      <td>7037686</td>\n",
       "      <td>UsadoInmobiliaria$1.200.000.000 COP600m² • 3ba...</td>\n",
       "      <td>Venta</td>\n",
       "      <td>Usado</td>\n",
       "      <td>1</td>\n",
       "      <td>Casa</td>\n",
       "      <td>barranquilla</td>\n",
       "      <td>alto-prado</td>\n",
       "      <td>600</td>\n",
       "      <td>3</td>\n",
       "      <td>5</td>\n",
       "      <td>0</td>\n",
       "      <td>https://www.fincaraiz.com.co/inmueble/casa-en-...</td>\n",
       "      <td>1200000000</td>\n",
       "    </tr>\n",
       "    <tr>\n",
       "      <th>4</th>\n",
       "      <td>5</td>\n",
       "      <td>7162861</td>\n",
       "      <td>UsadoInmobiliaria$350.000.000 COP4m² • 3ha. • ...</td>\n",
       "      <td>Venta</td>\n",
       "      <td>Usado</td>\n",
       "      <td>1</td>\n",
       "      <td>Casa</td>\n",
       "      <td>barranquilla</td>\n",
       "      <td>paraiso</td>\n",
       "      <td>4</td>\n",
       "      <td>3</td>\n",
       "      <td>3</td>\n",
       "      <td>1</td>\n",
       "      <td>https://www.fincaraiz.com.co/inmueble/casa-en-...</td>\n",
       "      <td>350000000</td>\n",
       "    </tr>\n",
       "  </tbody>\n",
       "</table>\n",
       "</div>"
      ],
      "text/plain": [
       "   index  post_id                                         post_title  \\\n",
       "0      1  7172619  Usado$250.000.000 COP224m² • 3ha. • 1ba.villac...   \n",
       "1      2  7127871  UsadoInmobiliaria$240.000.000 COP88m² • 3ha. •...   \n",
       "2      3  7187797  Usado$70.000.000 COP104m² • 3ha. • 1ba.bosque ...   \n",
       "3      4  7037686  UsadoInmobiliaria$1.200.000.000 COP600m² • 3ba...   \n",
       "4      5  7162861  UsadoInmobiliaria$350.000.000 COP4m² • 3ha. • ...   \n",
       "\n",
       "  bussiness_type condition  estrato property_type          city  neighborhood  \\\n",
       "0          Venta     Usado        1          Casa  barranquilla  villacevilla   \n",
       "1          Venta     Usado        1   Apartamento  barranquilla      el-prado   \n",
       "2          Venta     Usado        1          Casa  barranquilla        bosque   \n",
       "3          Venta     Usado        1          Casa  barranquilla    alto-prado   \n",
       "4          Venta     Usado        1          Casa  barranquilla       paraiso   \n",
       "\n",
       "   Area  bedrooms  bathrooms  garages  \\\n",
       "0   224         3          1        0   \n",
       "1    88         3          2        1   \n",
       "2   104         3          1        0   \n",
       "3   600         3          5        0   \n",
       "4     4         3          3        1   \n",
       "\n",
       "                                           post_link       Price  \n",
       "0  https://www.fincaraiz.com.co/inmueble/casa-en-...   250000000  \n",
       "1  https://www.fincaraiz.com.co/inmueble/apartame...   240000000  \n",
       "2  https://www.fincaraiz.com.co/inmueble/casa-en-...    70000000  \n",
       "3  https://www.fincaraiz.com.co/inmueble/casa-en-...  1200000000  \n",
       "4  https://www.fincaraiz.com.co/inmueble/casa-en-...   350000000  "
      ]
     },
     "execution_count": 10,
     "metadata": {},
     "output_type": "execute_result"
    }
   ],
   "source": [
    "df_subset.head()"
   ]
  },
  {
   "cell_type": "code",
   "execution_count": 11,
   "metadata": {},
   "outputs": [
    {
     "data": {
      "text/html": [
       "<div>\n",
       "<style scoped>\n",
       "    .dataframe tbody tr th:only-of-type {\n",
       "        vertical-align: middle;\n",
       "    }\n",
       "\n",
       "    .dataframe tbody tr th {\n",
       "        vertical-align: top;\n",
       "    }\n",
       "\n",
       "    .dataframe thead th {\n",
       "        text-align: right;\n",
       "    }\n",
       "</style>\n",
       "<table border=\"1\" class=\"dataframe\">\n",
       "  <thead>\n",
       "    <tr style=\"text-align: right;\">\n",
       "      <th></th>\n",
       "      <th>index</th>\n",
       "      <th>post_id</th>\n",
       "      <th>post_title</th>\n",
       "      <th>bussiness_type</th>\n",
       "      <th>condition</th>\n",
       "      <th>estrato</th>\n",
       "      <th>property_type</th>\n",
       "      <th>city</th>\n",
       "      <th>neighborhood</th>\n",
       "      <th>Area</th>\n",
       "      <th>bedrooms</th>\n",
       "      <th>bathrooms</th>\n",
       "      <th>garages</th>\n",
       "      <th>post_link</th>\n",
       "      <th>Price</th>\n",
       "    </tr>\n",
       "  </thead>\n",
       "  <tbody>\n",
       "    <tr>\n",
       "      <th>9492</th>\n",
       "      <td>3396</td>\n",
       "      <td>7091439</td>\n",
       "      <td>UsadoInmobiliaria$260.000.000 COP60m² • 2ha. •...</td>\n",
       "      <td>Venta</td>\n",
       "      <td>Usado</td>\n",
       "      <td>5</td>\n",
       "      <td>Apartamento</td>\n",
       "      <td>barranquilla</td>\n",
       "      <td>ciudad-jardin</td>\n",
       "      <td>60</td>\n",
       "      <td>2</td>\n",
       "      <td>1</td>\n",
       "      <td>1</td>\n",
       "      <td>https://www.fincaraiz.com.co/inmueble/apartame...</td>\n",
       "      <td>260000000</td>\n",
       "    </tr>\n",
       "    <tr>\n",
       "      <th>9493</th>\n",
       "      <td>3397</td>\n",
       "      <td>6903421</td>\n",
       "      <td>UsadoInmobiliaria$480.000.000 COP110,12m² • 4h...</td>\n",
       "      <td>Venta</td>\n",
       "      <td>Usado</td>\n",
       "      <td>5</td>\n",
       "      <td>Apartamento</td>\n",
       "      <td>barranquilla</td>\n",
       "      <td>villa-santos</td>\n",
       "      <td>110</td>\n",
       "      <td>4</td>\n",
       "      <td>5</td>\n",
       "      <td>0</td>\n",
       "      <td>https://www.fincaraiz.com.co/inmueble/apartame...</td>\n",
       "      <td>480000000</td>\n",
       "    </tr>\n",
       "    <tr>\n",
       "      <th>9494</th>\n",
       "      <td>3398</td>\n",
       "      <td>7170150</td>\n",
       "      <td>UsadoInmobiliaria$320.000.000 COP112m² • 3ha. ...</td>\n",
       "      <td>Venta</td>\n",
       "      <td>Usado</td>\n",
       "      <td>5</td>\n",
       "      <td>Apartamento</td>\n",
       "      <td>barranquilla</td>\n",
       "      <td>ciudad-jardin</td>\n",
       "      <td>112</td>\n",
       "      <td>3</td>\n",
       "      <td>2</td>\n",
       "      <td>1</td>\n",
       "      <td>https://www.fincaraiz.com.co/inmueble/apartame...</td>\n",
       "      <td>320000000</td>\n",
       "    </tr>\n",
       "    <tr>\n",
       "      <th>9495</th>\n",
       "      <td>3399</td>\n",
       "      <td>5818751</td>\n",
       "      <td>UsadoInmobiliaria$720.000.000 COP512m² • 4ha. ...</td>\n",
       "      <td>Venta</td>\n",
       "      <td>Usado</td>\n",
       "      <td>5</td>\n",
       "      <td>Casa</td>\n",
       "      <td>barranquilla</td>\n",
       "      <td>ciudad-jardin</td>\n",
       "      <td>512</td>\n",
       "      <td>4</td>\n",
       "      <td>4</td>\n",
       "      <td>2</td>\n",
       "      <td>https://www.fincaraiz.com.co/inmueble/casa-en-...</td>\n",
       "      <td>720000000</td>\n",
       "    </tr>\n",
       "    <tr>\n",
       "      <th>9496</th>\n",
       "      <td>3400</td>\n",
       "      <td>7064589</td>\n",
       "      <td>UsadoInmobiliaria$400.000.000 COP98m² • 3ha. •...</td>\n",
       "      <td>Venta</td>\n",
       "      <td>Usado</td>\n",
       "      <td>5</td>\n",
       "      <td>Apartamento</td>\n",
       "      <td>barranquilla</td>\n",
       "      <td>ciudad-jardin</td>\n",
       "      <td>98</td>\n",
       "      <td>3</td>\n",
       "      <td>3</td>\n",
       "      <td>1</td>\n",
       "      <td>https://www.fincaraiz.com.co/inmueble/apartame...</td>\n",
       "      <td>400000000</td>\n",
       "    </tr>\n",
       "  </tbody>\n",
       "</table>\n",
       "</div>"
      ],
      "text/plain": [
       "      index  post_id                                         post_title  \\\n",
       "9492   3396  7091439  UsadoInmobiliaria$260.000.000 COP60m² • 2ha. •...   \n",
       "9493   3397  6903421  UsadoInmobiliaria$480.000.000 COP110,12m² • 4h...   \n",
       "9494   3398  7170150  UsadoInmobiliaria$320.000.000 COP112m² • 3ha. ...   \n",
       "9495   3399  5818751  UsadoInmobiliaria$720.000.000 COP512m² • 4ha. ...   \n",
       "9496   3400  7064589  UsadoInmobiliaria$400.000.000 COP98m² • 3ha. •...   \n",
       "\n",
       "     bussiness_type condition  estrato property_type          city  \\\n",
       "9492          Venta     Usado        5   Apartamento  barranquilla   \n",
       "9493          Venta     Usado        5   Apartamento  barranquilla   \n",
       "9494          Venta     Usado        5   Apartamento  barranquilla   \n",
       "9495          Venta     Usado        5          Casa  barranquilla   \n",
       "9496          Venta     Usado        5   Apartamento  barranquilla   \n",
       "\n",
       "       neighborhood  Area  bedrooms  bathrooms  garages  \\\n",
       "9492  ciudad-jardin    60         2          1        1   \n",
       "9493   villa-santos   110         4          5        0   \n",
       "9494  ciudad-jardin   112         3          2        1   \n",
       "9495  ciudad-jardin   512         4          4        2   \n",
       "9496  ciudad-jardin    98         3          3        1   \n",
       "\n",
       "                                              post_link      Price  \n",
       "9492  https://www.fincaraiz.com.co/inmueble/apartame...  260000000  \n",
       "9493  https://www.fincaraiz.com.co/inmueble/apartame...  480000000  \n",
       "9494  https://www.fincaraiz.com.co/inmueble/apartame...  320000000  \n",
       "9495  https://www.fincaraiz.com.co/inmueble/casa-en-...  720000000  \n",
       "9496  https://www.fincaraiz.com.co/inmueble/apartame...  400000000  "
      ]
     },
     "execution_count": 11,
     "metadata": {},
     "output_type": "execute_result"
    }
   ],
   "source": [
    "df_subset.tail()"
   ]
  },
  {
   "cell_type": "code",
   "execution_count": 12,
   "metadata": {},
   "outputs": [],
   "source": [
    "df_subset = df_subset.drop(['index','post_id','post_title','city','post_link'], axis = 1)"
   ]
  },
  {
   "cell_type": "code",
   "execution_count": 13,
   "metadata": {},
   "outputs": [],
   "source": [
    "df_subset = df_subset.drop(['bussiness_type','condition','property_type','neighborhood'], axis = 1)"
   ]
  },
  {
   "cell_type": "code",
   "execution_count": 14,
   "metadata": {},
   "outputs": [
    {
     "data": {
      "text/html": [
       "<div>\n",
       "<style scoped>\n",
       "    .dataframe tbody tr th:only-of-type {\n",
       "        vertical-align: middle;\n",
       "    }\n",
       "\n",
       "    .dataframe tbody tr th {\n",
       "        vertical-align: top;\n",
       "    }\n",
       "\n",
       "    .dataframe thead th {\n",
       "        text-align: right;\n",
       "    }\n",
       "</style>\n",
       "<table border=\"1\" class=\"dataframe\">\n",
       "  <thead>\n",
       "    <tr style=\"text-align: right;\">\n",
       "      <th></th>\n",
       "      <th>estrato</th>\n",
       "      <th>Area</th>\n",
       "      <th>bedrooms</th>\n",
       "      <th>bathrooms</th>\n",
       "      <th>garages</th>\n",
       "      <th>Price</th>\n",
       "    </tr>\n",
       "  </thead>\n",
       "  <tbody>\n",
       "    <tr>\n",
       "      <th>0</th>\n",
       "      <td>1</td>\n",
       "      <td>224</td>\n",
       "      <td>3</td>\n",
       "      <td>1</td>\n",
       "      <td>0</td>\n",
       "      <td>250000000</td>\n",
       "    </tr>\n",
       "    <tr>\n",
       "      <th>1</th>\n",
       "      <td>1</td>\n",
       "      <td>88</td>\n",
       "      <td>3</td>\n",
       "      <td>2</td>\n",
       "      <td>1</td>\n",
       "      <td>240000000</td>\n",
       "    </tr>\n",
       "    <tr>\n",
       "      <th>2</th>\n",
       "      <td>1</td>\n",
       "      <td>104</td>\n",
       "      <td>3</td>\n",
       "      <td>1</td>\n",
       "      <td>0</td>\n",
       "      <td>70000000</td>\n",
       "    </tr>\n",
       "    <tr>\n",
       "      <th>3</th>\n",
       "      <td>1</td>\n",
       "      <td>600</td>\n",
       "      <td>3</td>\n",
       "      <td>5</td>\n",
       "      <td>0</td>\n",
       "      <td>1200000000</td>\n",
       "    </tr>\n",
       "    <tr>\n",
       "      <th>4</th>\n",
       "      <td>1</td>\n",
       "      <td>4</td>\n",
       "      <td>3</td>\n",
       "      <td>3</td>\n",
       "      <td>1</td>\n",
       "      <td>350000000</td>\n",
       "    </tr>\n",
       "  </tbody>\n",
       "</table>\n",
       "</div>"
      ],
      "text/plain": [
       "   estrato  Area  bedrooms  bathrooms  garages       Price\n",
       "0        1   224         3          1        0   250000000\n",
       "1        1    88         3          2        1   240000000\n",
       "2        1   104         3          1        0    70000000\n",
       "3        1   600         3          5        0  1200000000\n",
       "4        1     4         3          3        1   350000000"
      ]
     },
     "execution_count": 14,
     "metadata": {},
     "output_type": "execute_result"
    }
   ],
   "source": [
    "df_subset.head()"
   ]
  },
  {
   "cell_type": "code",
   "execution_count": 118,
   "metadata": {},
   "outputs": [],
   "source": [
    "data_subset = df_data_source(df_subset)"
   ]
  },
  {
   "cell_type": "code",
   "execution_count": 119,
   "metadata": {},
   "outputs": [],
   "source": [
    "data_subset.split_data(0.05)"
   ]
  },
  {
   "cell_type": "code",
   "execution_count": 120,
   "metadata": {},
   "outputs": [
    {
     "data": {
      "text/plain": [
       "numpy.ndarray"
      ]
     },
     "execution_count": 120,
     "metadata": {},
     "output_type": "execute_result"
    }
   ],
   "source": [
    "type(data_subset.data_subset_test)"
   ]
  },
  {
   "cell_type": "code",
   "execution_count": 121,
   "metadata": {},
   "outputs": [],
   "source": [
    "from sklearn.linear_model import LinearRegression"
   ]
  },
  {
   "cell_type": "code",
   "execution_count": 122,
   "metadata": {},
   "outputs": [],
   "source": [
    "linear_reg = Predictor(LinearRegression())"
   ]
  },
  {
   "cell_type": "code",
   "execution_count": 130,
   "metadata": {},
   "outputs": [
    {
     "data": {
      "text/plain": [
       "array([[  4, 216,   3,   1,   0],\n",
       "       [  4,  37,   2,   1,   0],\n",
       "       [  5,  98,   3,   2,   1],\n",
       "       ...,\n",
       "       [  4,  63,   3,   2,   1],\n",
       "       [  5, 117,   3,   2,   3],\n",
       "       [  5,  85,   3,   2,   1]], dtype=int64)"
      ]
     },
     "execution_count": 130,
     "metadata": {},
     "output_type": "execute_result"
    }
   ],
   "source": [
    "data_subset.data_subset_train"
   ]
  },
  {
   "cell_type": "code",
   "execution_count": 131,
   "metadata": {},
   "outputs": [
    {
     "data": {
      "text/plain": [
       "array([[350000000],\n",
       "       [120000000],\n",
       "       [380000000],\n",
       "       ...,\n",
       "       [270000000],\n",
       "       [260000000],\n",
       "       [310000000]], dtype=int64)"
      ]
     },
     "execution_count": 131,
     "metadata": {},
     "output_type": "execute_result"
    }
   ],
   "source": [
    "data_subset.price_subset_train"
   ]
  },
  {
   "cell_type": "code",
   "execution_count": 125,
   "metadata": {},
   "outputs": [],
   "source": [
    "data_subset.reshape_data()"
   ]
  },
  {
   "cell_type": "code",
   "execution_count": 126,
   "metadata": {},
   "outputs": [
    {
     "data": {
      "text/plain": [
       "2849"
      ]
     },
     "execution_count": 126,
     "metadata": {},
     "output_type": "execute_result"
    }
   ],
   "source": [
    "len(data_subset.data_subset_train)"
   ]
  },
  {
   "cell_type": "code",
   "execution_count": 127,
   "metadata": {},
   "outputs": [
    {
     "data": {
      "text/plain": [
       "2849"
      ]
     },
     "execution_count": 127,
     "metadata": {},
     "output_type": "execute_result"
    }
   ],
   "source": [
    "len(data_subset.price_subset_train)"
   ]
  },
  {
   "cell_type": "code",
   "execution_count": 128,
   "metadata": {},
   "outputs": [
    {
     "data": {
      "text/plain": [
       "LinearRegression(copy_X=True, fit_intercept=True, n_jobs=None, normalize=False)"
      ]
     },
     "execution_count": 128,
     "metadata": {},
     "output_type": "execute_result"
    }
   ],
   "source": [
    "linear_reg.source_model.fit(data_subset.data_subset_train,data_subset.price_subset_train)"
   ]
  },
  {
   "cell_type": "code",
   "execution_count": 133,
   "metadata": {},
   "outputs": [
    {
     "data": {
      "text/plain": [
       "0.01712096606605029"
      ]
     },
     "execution_count": 133,
     "metadata": {},
     "output_type": "execute_result"
    }
   ],
   "source": [
    "linear_reg.source_model.score(data_subset.data_subset_train,data_subset.price_subset_train)"
   ]
  },
  {
   "cell_type": "code",
   "execution_count": 137,
   "metadata": {},
   "outputs": [
    {
     "data": {
      "text/plain": [
       "array([[  4, 216,   3,   1,   0],\n",
       "       [  4,  37,   2,   1,   0],\n",
       "       [  5,  98,   3,   2,   1],\n",
       "       ...,\n",
       "       [  4,  63,   3,   2,   1],\n",
       "       [  5, 117,   3,   2,   3],\n",
       "       [  5,  85,   3,   2,   1]], dtype=int64)"
      ]
     },
     "execution_count": 137,
     "metadata": {},
     "output_type": "execute_result"
    }
   ],
   "source": [
    "data_subset.data_subset_train"
   ]
  },
  {
   "cell_type": "code",
   "execution_count": 145,
   "metadata": {},
   "outputs": [],
   "source": [
    "p1 = Prediction_data(4,120,4,1,2)"
   ]
  },
  {
   "cell_type": "code",
   "execution_count": 146,
   "metadata": {},
   "outputs": [],
   "source": [
    "p1.get_prediction_array()"
   ]
  },
  {
   "cell_type": "code",
   "execution_count": 143,
   "metadata": {},
   "outputs": [
    {
     "data": {
      "text/plain": [
       "array([[  4, 120,   4,   1,   2]])"
      ]
     },
     "execution_count": 143,
     "metadata": {},
     "output_type": "execute_result"
    }
   ],
   "source": [
    "p1.prediction_array.reshape(1,-1)"
   ]
  },
  {
   "cell_type": "code",
   "execution_count": 147,
   "metadata": {},
   "outputs": [
    {
     "data": {
      "text/plain": [
       "array([[-2.78260491e+09]])"
      ]
     },
     "execution_count": 147,
     "metadata": {},
     "output_type": "execute_result"
    }
   ],
   "source": [
    "linear_reg.source_model.predict(p1.prediction_array)"
   ]
  },
  {
   "cell_type": "code",
   "execution_count": 148,
   "metadata": {},
   "outputs": [
    {
     "data": {
      "text/plain": [
       "array([[-5.19792594e+07,  5.60774666e+06, -7.65611927e+07,\n",
       "         1.82352959e+09, -6.62558747e+08]])"
      ]
     },
     "execution_count": 148,
     "metadata": {},
     "output_type": "execute_result"
    }
   ],
   "source": [
    "linear_reg.source_model.coef_"
   ]
  },
  {
   "cell_type": "code",
   "execution_count": 149,
   "metadata": {},
   "outputs": [
    {
     "data": {
      "text/plain": [
       "array([-3.4397848e+09])"
      ]
     },
     "execution_count": 149,
     "metadata": {},
     "output_type": "execute_result"
    }
   ],
   "source": [
    "linear_reg.source_model.intercept_"
   ]
  },
  {
   "cell_type": "code",
   "execution_count": 150,
   "metadata": {},
   "outputs": [
    {
     "name": "stdout",
     "output_type": "stream",
     "text": [
      "[[350000000]\n",
      " [120000000]\n",
      " [380000000]\n",
      " ...\n",
      " [270000000]\n",
      " [260000000]\n",
      " [310000000]]\n"
     ]
    }
   ],
   "source": [
    "print(data_subset.price_subset_train)"
   ]
  },
  {
   "cell_type": "code",
   "execution_count": 151,
   "metadata": {},
   "outputs": [
    {
     "name": "stdout",
     "output_type": "stream",
     "text": [
      "[[  4 216   3   1   0]\n",
      " [  4  37   2   1   0]\n",
      " [  5  98   3   2   1]\n",
      " ...\n",
      " [  4  63   3   2   1]\n",
      " [  5 117   3   2   3]\n",
      " [  5  85   3   2   1]]\n"
     ]
    }
   ],
   "source": [
    "print(data_subset.data_subset_train)"
   ]
  }
 ],
 "metadata": {
  "kernelspec": {
   "display_name": "Python 3",
   "language": "python",
   "name": "python3"
  },
  "language_info": {
   "codemirror_mode": {
    "name": "ipython",
    "version": 3
   },
   "file_extension": ".py",
   "mimetype": "text/x-python",
   "name": "python",
   "nbconvert_exporter": "python",
   "pygments_lexer": "ipython3",
   "version": "3.7.6"
  }
 },
 "nbformat": 4,
 "nbformat_minor": 4
}
