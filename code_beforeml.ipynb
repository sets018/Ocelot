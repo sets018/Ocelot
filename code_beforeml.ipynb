{
 "cells": [
  {
   "cell_type": "code",
   "execution_count": 417,
   "metadata": {},
   "outputs": [],
   "source": [
    "# Importing libraries\n",
    "import pandas as pd\n",
    "from sklearn.preprocessing import OneHotEncoder\n",
    "from sklearn.preprocessing import LabelEncoder\n",
    "import seaborn as sns\n",
    "from pandas.plotting import scatter_matrix\n",
    "from sklearn.impute import SimpleImputer\n",
    "from sklearn.preprocessing import LabelEncoder\n",
    "import matplotlib as plt\n",
    "import numpy as np\n",
    "from sklearn.model_selection import train_test_split\n",
    "from sklearn.ensemble import RandomForestRegressor"
   ]
  },
  {
   "cell_type": "code",
   "execution_count": 418,
   "metadata": {},
   "outputs": [],
   "source": [
    "# This class contains the data (a pandas df) as an attribute \n",
    "class df_data_source():\n",
    "    def __init__(self,source,source_type):\n",
    "        self.source_type = source_type\n",
    "        self.source = source\n",
    "        if(self.source_type == 'url'):\n",
    "            self.get_data_by_url(source)\n",
    "        elif(self.source_type == 'path'):\n",
    "            self.get_data_by_path(source)\n",
    "        elif(self.source_type == 'pass'):\n",
    "            self.get_data(source)\n",
    "    # Method to split data train/test\n",
    "    # This method also reshapes the data in order to be used by the model\n",
    "    def split_data(self,test_size_):\n",
    "        self.test_size_ = test_size_\n",
    "        self.price_subset = self.data_source.iloc[:, -1].values\n",
    "        self.non_price_subset = self.data_source.iloc[:, :-1].values\n",
    "        self.price_subset_train, self.price_subset_test,self.data_subset_train, self.data_subset_test = train_test_split(self.price_subset, self.non_price_subset, test_size=self.test_size_, shuffle=True, random_state=0, train_size=0.3)\n",
    "        self.price_subset_train = self.price_subset_train.reshape(-1, 1)\n",
    "        self.price_subset_test = self.price_subset_train.reshape(-1, 1)\n",
    "    # Method to delete the duplicates \n",
    "    # A post is a duplicate if it shares the same post_id/post_link\n",
    "    def delete_duplicates(self):\n",
    "        self.data_source = df.data_source.drop_duplicates(subset=\"post_link\")\n",
    "    def delete_nan(self,column_wnan):\n",
    "        self.column_wnan = column_wnan\n",
    "        self.data_source = self.data_source[self.data_source[column_wnan].notna()]\n",
    "        #sns.heatmap(self.data_source.corr())\n",
    "    def delete_outliers(self):\n",
    "        self.q1 = self.data_source.quantile(0.25)\n",
    "        self.q3 = self.data_source.quantile(0.75)\n",
    "        self.iqr = self.q3 - self.q1\n",
    "        self.data_source = self.data_source[~((self.data_source < (self.q1 - 1.5 * self.iqr)) |self.data_source > (self.q3 + 1.5 * self.iqr)).any(axis=1)]\n",
    "    def drop_column(self,column_name):\n",
    "        self.column_name = column_name\n",
    "        self.data_source.drop(self.column_name, axis=1, inplace=True)\n",
    "    # The dataframe is pulled from github using an url\n",
    "    def get_data_by_url(self,data_source_url):\n",
    "        self.data_source_url = data_source_url \n",
    "        self.data_source = pd.read_csv(self.data_source_url)\n",
    "    # The dataframe is pulled from a specific path\n",
    "    def get_data_by_path(self,data_source_path):\n",
    "        self.data_source_path = data_source_path\n",
    "        self.data_source = pd.read_csv(self.data_source_path)\n",
    "    # The dataframe is assigned (=)\n",
    "    def get_data(self,data_source):\n",
    "        self.data_source = data_source"
   ]
  },
  {
   "cell_type": "code",
   "execution_count": 419,
   "metadata": {},
   "outputs": [],
   "source": [
    "class plotting():\n",
    "    def __init__(self,data):\n",
    "        self.data = data\n",
    "    def plot_distr(self,x_column):\n",
    "        self.x_column = x_column\n",
    "        self.x_data = self.data[x_column]\n",
    "        sns.displot(self.x_data)\n",
    "    def plot_corr(self):\n",
    "        sns.heatmap(self.data.corr())\n",
    "    def plot_histo(self):\n",
    "        self.y_data = self.data['Price']\n",
    "        self.variables = ['estrato','property_type','neighborhood','Area','bedrooms','bathrooms','garages']\n",
    "        for self.i in self.variables:\n",
    "            self.x_column = self.data[self.i]\n",
    "            sns.jointplot(x=self.x_column, y=self.y_data , data=self.data)"
   ]
  },
  {
   "cell_type": "code",
   "execution_count": 459,
   "metadata": {},
   "outputs": [],
   "source": [
    "class oh_encoder(OneHotEncoder):\n",
    "    def __init__(self,data):\n",
    "        super(OneHotEncoder, self).__init__()\n",
    "        self.data = data\n",
    "        self.data.drop (['post_title'], 1, inplace=True)\n",
    "        self.data.drop(['post_link'], 1, inplace=True)\n",
    "        self.data.drop(['city'], 1, inplace=True)\n",
    "        self.handle_unknown = \"ignore\"\n",
    "        self.categories = 'auto'\n",
    "        self.sparse = False\n",
    "        self.dtype = float\n",
    "        self.drop = None\n",
    "    def encode(self):\n",
    "        self.columns_cat = self.data.select_dtypes(include=[\"object\"]).columns\n",
    "        self.encoded_data = self.fit_transform(self.data[self.columns_cat])\n",
    "        self.encoded_data = pd.DataFrame(self.encoded_data, columns = self.get_encoded_columns())\n",
    "        self.oh_data = self.encoded_data.join(self.data)\n",
    "        self.oh_data = self.delete_non_encoded_columns(self.oh_data)\n",
    "        return self.oh_data\n",
    "    def get_encoded_columns(self):\n",
    "        self.columns_cats_encoded = []\n",
    "        for column in self.columns_cat :\n",
    "            self.columns_cats_encoded += [f\"{column[0]}_{cat}\" for cat in list(df.data_source[column].unique())]\n",
    "        return self.columns_cats_encoded\n",
    "    def delete_non_encoded_columns(self,data_encoded):\n",
    "        self.data_encoded = data_encoded\n",
    "        for column in self.columns_cat :\n",
    "            self.data_encoded.drop([column], 1, inplace=True)\n",
    "        return self.data_encoded"
   ]
  },
  {
   "cell_type": "code",
   "execution_count": 421,
   "metadata": {},
   "outputs": [],
   "source": [
    "df = df_data_source('https://raw.githubusercontent.com/sets018/Ocelot/main/data_extraction/df_posts_housing_clean.csv','url')"
   ]
  },
  {
   "cell_type": "code",
   "execution_count": 401,
   "metadata": {},
   "outputs": [
    {
     "data": {
      "text/html": [
       "<div>\n",
       "<style scoped>\n",
       "    .dataframe tbody tr th:only-of-type {\n",
       "        vertical-align: middle;\n",
       "    }\n",
       "\n",
       "    .dataframe tbody tr th {\n",
       "        vertical-align: top;\n",
       "    }\n",
       "\n",
       "    .dataframe thead th {\n",
       "        text-align: right;\n",
       "    }\n",
       "</style>\n",
       "<table border=\"1\" class=\"dataframe\">\n",
       "  <thead>\n",
       "    <tr style=\"text-align: right;\">\n",
       "      <th></th>\n",
       "      <th>index</th>\n",
       "      <th>post_id</th>\n",
       "      <th>post_title</th>\n",
       "      <th>bussiness_type</th>\n",
       "      <th>condition</th>\n",
       "      <th>estrato</th>\n",
       "      <th>property_type</th>\n",
       "      <th>city</th>\n",
       "      <th>neighborhood</th>\n",
       "      <th>Area</th>\n",
       "      <th>bedrooms</th>\n",
       "      <th>bathrooms</th>\n",
       "      <th>garages</th>\n",
       "      <th>post_link</th>\n",
       "      <th>Price</th>\n",
       "    </tr>\n",
       "  </thead>\n",
       "  <tbody>\n",
       "    <tr>\n",
       "      <th>0</th>\n",
       "      <td>1</td>\n",
       "      <td>7172619</td>\n",
       "      <td>Usado$250.000.000 COP224m² • 3ha. • 1ba.villac...</td>\n",
       "      <td>Venta</td>\n",
       "      <td>Usado</td>\n",
       "      <td>1</td>\n",
       "      <td>Casa</td>\n",
       "      <td>barranquilla</td>\n",
       "      <td>Villa Sevilla</td>\n",
       "      <td>224</td>\n",
       "      <td>3</td>\n",
       "      <td>1</td>\n",
       "      <td>0</td>\n",
       "      <td>https://www.fincaraiz.com.co/inmueble/casa-en-...</td>\n",
       "      <td>250000000</td>\n",
       "    </tr>\n",
       "    <tr>\n",
       "      <th>1</th>\n",
       "      <td>2</td>\n",
       "      <td>7127871</td>\n",
       "      <td>UsadoInmobiliaria$240.000.000 COP88m² • 3ha. •...</td>\n",
       "      <td>Venta</td>\n",
       "      <td>Usado</td>\n",
       "      <td>1</td>\n",
       "      <td>Apartamento</td>\n",
       "      <td>barranquilla</td>\n",
       "      <td>El Prado</td>\n",
       "      <td>88</td>\n",
       "      <td>3</td>\n",
       "      <td>2</td>\n",
       "      <td>1</td>\n",
       "      <td>https://www.fincaraiz.com.co/inmueble/apartame...</td>\n",
       "      <td>240000000</td>\n",
       "    </tr>\n",
       "    <tr>\n",
       "      <th>2</th>\n",
       "      <td>3</td>\n",
       "      <td>7187797</td>\n",
       "      <td>Usado$70.000.000 COP104m² • 3ha. • 1ba.bosque ...</td>\n",
       "      <td>Venta</td>\n",
       "      <td>Usado</td>\n",
       "      <td>1</td>\n",
       "      <td>Casa</td>\n",
       "      <td>barranquilla</td>\n",
       "      <td>El Bosque</td>\n",
       "      <td>104</td>\n",
       "      <td>3</td>\n",
       "      <td>1</td>\n",
       "      <td>0</td>\n",
       "      <td>https://www.fincaraiz.com.co/inmueble/casa-en-...</td>\n",
       "      <td>70000000</td>\n",
       "    </tr>\n",
       "    <tr>\n",
       "      <th>3</th>\n",
       "      <td>4</td>\n",
       "      <td>7037686</td>\n",
       "      <td>UsadoInmobiliaria$1.200.000.000 COP600m² • 3ba...</td>\n",
       "      <td>Venta</td>\n",
       "      <td>Usado</td>\n",
       "      <td>1</td>\n",
       "      <td>Casa</td>\n",
       "      <td>barranquilla</td>\n",
       "      <td>Altos del Prado</td>\n",
       "      <td>600</td>\n",
       "      <td>3</td>\n",
       "      <td>5</td>\n",
       "      <td>0</td>\n",
       "      <td>https://www.fincaraiz.com.co/inmueble/casa-en-...</td>\n",
       "      <td>1200000000</td>\n",
       "    </tr>\n",
       "    <tr>\n",
       "      <th>4</th>\n",
       "      <td>5</td>\n",
       "      <td>7162861</td>\n",
       "      <td>UsadoInmobiliaria$350.000.000 COP4m² • 3ha. • ...</td>\n",
       "      <td>Venta</td>\n",
       "      <td>Usado</td>\n",
       "      <td>1</td>\n",
       "      <td>Casa</td>\n",
       "      <td>barranquilla</td>\n",
       "      <td>Paraíso</td>\n",
       "      <td>4</td>\n",
       "      <td>3</td>\n",
       "      <td>3</td>\n",
       "      <td>1</td>\n",
       "      <td>https://www.fincaraiz.com.co/inmueble/casa-en-...</td>\n",
       "      <td>350000000</td>\n",
       "    </tr>\n",
       "  </tbody>\n",
       "</table>\n",
       "</div>"
      ],
      "text/plain": [
       "   index  post_id                                         post_title  \\\n",
       "0      1  7172619  Usado$250.000.000 COP224m² • 3ha. • 1ba.villac...   \n",
       "1      2  7127871  UsadoInmobiliaria$240.000.000 COP88m² • 3ha. •...   \n",
       "2      3  7187797  Usado$70.000.000 COP104m² • 3ha. • 1ba.bosque ...   \n",
       "3      4  7037686  UsadoInmobiliaria$1.200.000.000 COP600m² • 3ba...   \n",
       "4      5  7162861  UsadoInmobiliaria$350.000.000 COP4m² • 3ha. • ...   \n",
       "\n",
       "  bussiness_type condition  estrato property_type          city  \\\n",
       "0          Venta     Usado        1          Casa  barranquilla   \n",
       "1          Venta     Usado        1   Apartamento  barranquilla   \n",
       "2          Venta     Usado        1          Casa  barranquilla   \n",
       "3          Venta     Usado        1          Casa  barranquilla   \n",
       "4          Venta     Usado        1          Casa  barranquilla   \n",
       "\n",
       "      neighborhood  Area  bedrooms  bathrooms  garages  \\\n",
       "0    Villa Sevilla   224         3          1        0   \n",
       "1         El Prado    88         3          2        1   \n",
       "2        El Bosque   104         3          1        0   \n",
       "3  Altos del Prado   600         3          5        0   \n",
       "4          Paraíso     4         3          3        1   \n",
       "\n",
       "                                           post_link       Price  \n",
       "0  https://www.fincaraiz.com.co/inmueble/casa-en-...   250000000  \n",
       "1  https://www.fincaraiz.com.co/inmueble/apartame...   240000000  \n",
       "2  https://www.fincaraiz.com.co/inmueble/casa-en-...    70000000  \n",
       "3  https://www.fincaraiz.com.co/inmueble/casa-en-...  1200000000  \n",
       "4  https://www.fincaraiz.com.co/inmueble/casa-en-...   350000000  "
      ]
     },
     "execution_count": 401,
     "metadata": {},
     "output_type": "execute_result"
    }
   ],
   "source": [
    "df.data_source.head()"
   ]
  },
  {
   "cell_type": "code",
   "execution_count": 402,
   "metadata": {},
   "outputs": [
    {
     "name": "stdout",
     "output_type": "stream",
     "text": [
      "# Rows  9384 # Columns  15\n",
      "\n",
      " Columns \n",
      " ['index', 'post_id', 'post_title', 'bussiness_type', 'condition', 'estrato', 'property_type', 'city', 'neighborhood', 'Area', 'bedrooms', 'bathrooms', 'garages', 'post_link', 'Price']\n",
      "\n",
      " Nulls  22\n",
      "\n",
      " Unique values \n",
      " index             3398\n",
      "post_id           6388\n",
      "post_title        6432\n",
      "bussiness_type       1\n",
      "condition            3\n",
      "estrato              5\n",
      "property_type       41\n",
      "city                 4\n",
      "neighborhood       155\n",
      "Area               545\n",
      "bedrooms            20\n",
      "bathrooms           11\n",
      "garages             11\n",
      "post_link         6388\n",
      "Price              797\n",
      "dtype: int64\n",
      "(9384, 15)\n"
     ]
    }
   ],
   "source": [
    "print(\"# Rows \", df.data_source.shape[0],\"# Columns \", df.data_source.shape[1])\n",
    "print(\"\\n Columns \\n\", df.data_source.columns.tolist())\n",
    "print(\"\\n Nulls \",df.data_source.isnull().sum().values.sum())\n",
    "print(\"\\n Unique values \\n\", df.data_source.nunique())\n",
    "print(df.data_source.shape)"
   ]
  },
  {
   "cell_type": "code",
   "execution_count": 422,
   "metadata": {},
   "outputs": [],
   "source": [
    "df.drop_column('bussiness_type')"
   ]
  },
  {
   "cell_type": "code",
   "execution_count": 423,
   "metadata": {},
   "outputs": [],
   "source": [
    "df.delete_duplicates()"
   ]
  },
  {
   "cell_type": "code",
   "execution_count": 405,
   "metadata": {},
   "outputs": [
    {
     "name": "stdout",
     "output_type": "stream",
     "text": [
      "# Rows  6388 # Columns  14\n",
      "\n",
      " Columns \n",
      " ['index', 'post_id', 'post_title', 'condition', 'estrato', 'property_type', 'city', 'neighborhood', 'Area', 'bedrooms', 'bathrooms', 'garages', 'post_link', 'Price']\n",
      "\n",
      " Nulls  15\n",
      "\n",
      " Unique values \n",
      " index            3072\n",
      "post_id          6388\n",
      "post_title       6337\n",
      "condition           3\n",
      "estrato             5\n",
      "property_type      41\n",
      "city                4\n",
      "neighborhood      155\n",
      "Area              545\n",
      "bedrooms           20\n",
      "bathrooms          11\n",
      "garages            11\n",
      "post_link        6388\n",
      "Price             736\n",
      "dtype: int64\n",
      "(6388, 14)\n"
     ]
    }
   ],
   "source": [
    "print(\"# Rows \", df.data_source.shape[0],\"# Columns \", df.data_source.shape[1])\n",
    "print(\"\\n Columns \\n\", df.data_source.columns.tolist())\n",
    "print(\"\\n Nulls \",df.data_source.isnull().sum().values.sum())\n",
    "print(\"\\n Unique values \\n\", df.data_source.nunique())\n",
    "print(df.data_source.shape)"
   ]
  },
  {
   "cell_type": "code",
   "execution_count": 374,
   "metadata": {},
   "outputs": [
    {
     "data": {
      "text/plain": [
       "array(['Usado', 'Inmobiliaria', 'Proyecto', nan], dtype=object)"
      ]
     },
     "execution_count": 374,
     "metadata": {},
     "output_type": "execute_result"
    }
   ],
   "source": [
    "df.data_source[\"condition\"].unique()"
   ]
  },
  {
   "cell_type": "code",
   "execution_count": 375,
   "metadata": {},
   "outputs": [
    {
     "data": {
      "text/plain": [
       "array(['barranquilla', 'el-colegio', 'cali', 'atlantico'], dtype=object)"
      ]
     },
     "execution_count": 375,
     "metadata": {},
     "output_type": "execute_result"
    }
   ],
   "source": [
    "df.data_source[\"city\"].unique()"
   ]
  },
  {
   "cell_type": "code",
   "execution_count": 376,
   "metadata": {},
   "outputs": [
    {
     "data": {
      "text/plain": [
       "array(['https://www.fincaraiz.com.co/inmueble/casa-en-venta/barranquilla/el-colegio/7154494'],\n",
       "      dtype=object)"
      ]
     },
     "execution_count": 376,
     "metadata": {},
     "output_type": "execute_result"
    }
   ],
   "source": [
    "df.data_source.loc[df.data_source[\"city\"] == 'el-colegio']['post_link'].values"
   ]
  },
  {
   "cell_type": "code",
   "execution_count": 377,
   "metadata": {},
   "outputs": [
    {
     "data": {
      "text/plain": [
       "array(['https://www.fincaraiz.com.co/inmueble/apartamento-en-venta/barranquilla/cali/7118906',\n",
       "       'https://www.fincaraiz.com.co/inmueble/casa-en-venta/barranquilla/cali/6189163',\n",
       "       'https://www.fincaraiz.com.co/inmueble/apartamento-en-venta/barranquilla/cali/5565798',\n",
       "       'https://www.fincaraiz.com.co/inmueble/apartamento-en-venta/barranquilla/cali/7157998',\n",
       "       'https://www.fincaraiz.com.co/inmueble/apartamento-en-venta/barranquilla/cali/7034633',\n",
       "       'https://www.fincaraiz.com.co/inmueble/apartamento-en-venta/barranquilla/cali/7131381',\n",
       "       'https://www.fincaraiz.com.co/inmueble/apartamento-en-venta/barranquilla/cali/7193976',\n",
       "       'https://www.fincaraiz.com.co/inmueble/apartamento-en-venta/barranquilla/cali/7096418',\n",
       "       'https://www.fincaraiz.com.co/inmueble/apartamento-en-venta/barranquilla/cali/7187387',\n",
       "       'https://www.fincaraiz.com.co/inmueble/apartamento-en-venta/barranquilla/cali/7182231'],\n",
       "      dtype=object)"
      ]
     },
     "execution_count": 377,
     "metadata": {},
     "output_type": "execute_result"
    }
   ],
   "source": [
    "df.data_source.loc[df.data_source[\"city\"] == 'cali']['post_link'].values"
   ]
  },
  {
   "cell_type": "code",
   "execution_count": 378,
   "metadata": {},
   "outputs": [
    {
     "data": {
      "text/plain": [
       "array(['https://www.fincaraiz.com.co/inmueble/casa-en-venta/barranquilla/atlantico/4064706',\n",
       "       'https://www.fincaraiz.com.co/inmueble/apartamento-en-venta/barranquilla/atlantico/7129434'],\n",
       "      dtype=object)"
      ]
     },
     "execution_count": 378,
     "metadata": {},
     "output_type": "execute_result"
    }
   ],
   "source": [
    "df.data_source.loc[df.data_source[\"city\"] == 'atlantico']['post_link'].values"
   ]
  },
  {
   "cell_type": "code",
   "execution_count": 424,
   "metadata": {},
   "outputs": [],
   "source": [
    "df.data_source.drop(df.data_source[df.data_source[\"city\"] == 'atlantico'].index, inplace = True)"
   ]
  },
  {
   "cell_type": "code",
   "execution_count": 425,
   "metadata": {},
   "outputs": [],
   "source": [
    "df.data_source.drop(df.data_source[df.data_source[\"city\"] == 'cali'].index, inplace = True)"
   ]
  },
  {
   "cell_type": "code",
   "execution_count": 426,
   "metadata": {},
   "outputs": [],
   "source": [
    "df.data_source.drop(df.data_source[df.data_source[\"city\"] == 'el-colegio'].index, inplace = True)"
   ]
  },
  {
   "cell_type": "code",
   "execution_count": 261,
   "metadata": {},
   "outputs": [
    {
     "data": {
      "text/plain": [
       "array(['barranquilla'], dtype=object)"
      ]
     },
     "execution_count": 261,
     "metadata": {},
     "output_type": "execute_result"
    }
   ],
   "source": [
    "df.data_source[\"city\"].unique()"
   ]
  },
  {
   "cell_type": "code",
   "execution_count": 262,
   "metadata": {},
   "outputs": [
    {
     "data": {
      "text/plain": [
       "array(['Casa', 'Apartamento', 'Apartaestudio', 'Barloa', 'BONAVENTOPor',\n",
       "       'CARIBE', 'Álamos', 'Casas', 'PALMAR', 'Torres', 'ALTOS',\n",
       "       'EDIFICIO', 'PUERTO', 'NUVOLI', 'SilbadorPor', 'PICAFLORPor',\n",
       "       'FLAMINGOPor', 'PUERTA', 'AMATISTAPor', 'Altavista', 'ZafiroPor',\n",
       "       'CATLEYA', 'Ambar', 'NEW', 'BRISAS', 'BOLONIAPor', 'Madeira',\n",
       "       'NAPOLIPor', 'PARK', 'ACUARELA', 'Baruc', 'CONJUNTO', 'TORRES',\n",
       "       'SOLARIOPor', 'RIVER', 'MONTERIVERAPor', 'VALLARTAPor', 'Mint',\n",
       "       'SIMPLICITYPor', 'TOWER', 'Edificio'], dtype=object)"
      ]
     },
     "execution_count": 262,
     "metadata": {},
     "output_type": "execute_result"
    }
   ],
   "source": [
    "df.data_source[\"property_type\"].unique()"
   ]
  },
  {
   "cell_type": "code",
   "execution_count": 263,
   "metadata": {},
   "outputs": [
    {
     "data": {
      "text/plain": [
       "array(['https://www.fincaraiz.com.co/proyecto-de-vivienda/barloa--trivento/caribe-verde/barranquilla/6857997'],\n",
       "      dtype=object)"
      ]
     },
     "execution_count": 263,
     "metadata": {},
     "output_type": "execute_result"
    }
   ],
   "source": [
    "df.data_source.loc[df.data_source[\"property_type\"] == 'Barloa']['post_link'].values"
   ]
  },
  {
   "cell_type": "code",
   "execution_count": 264,
   "metadata": {},
   "outputs": [
    {
     "data": {
      "text/plain": [
       "array(['https://www.fincaraiz.com.co/proyecto-de-vivienda/bonavento/caribe-verde/barranquilla/6633207'],\n",
       "      dtype=object)"
      ]
     },
     "execution_count": 264,
     "metadata": {},
     "output_type": "execute_result"
    }
   ],
   "source": [
    "df.data_source.loc[df.data_source[\"property_type\"] == 'BONAVENTOPor']['post_link'].values"
   ]
  },
  {
   "cell_type": "code",
   "execution_count": 265,
   "metadata": {},
   "outputs": [
    {
     "data": {
      "text/plain": [
       "array(['https://www.fincaraiz.com.co/proyecto-de-vivienda/caribe-plaza-2/caribe-verde/barranquilla/2084144'],\n",
       "      dtype=object)"
      ]
     },
     "execution_count": 265,
     "metadata": {},
     "output_type": "execute_result"
    }
   ],
   "source": [
    "df.data_source.loc[df.data_source[\"property_type\"] ==  'CARIBE']['post_link'].values"
   ]
  },
  {
   "cell_type": "code",
   "execution_count": 427,
   "metadata": {},
   "outputs": [],
   "source": [
    "for i in df.data_source[\"property_type\"].unique():\n",
    "    n_posts = len(df.data_source.loc[df.data_source[\"property_type\"] == i]['post_link'])\n",
    "    if (n_posts < 10):\n",
    "        df.data_source.drop(df.data_source[df.data_source[\"property_type\"] == i].index, inplace = True) "
   ]
  },
  {
   "cell_type": "code",
   "execution_count": 410,
   "metadata": {},
   "outputs": [
    {
     "data": {
      "text/plain": [
       "array(['Casa', 'Apartamento', 'Apartaestudio'], dtype=object)"
      ]
     },
     "execution_count": 410,
     "metadata": {},
     "output_type": "execute_result"
    }
   ],
   "source": [
    "df.data_source[\"property_type\"].unique()"
   ]
  },
  {
   "cell_type": "code",
   "execution_count": 428,
   "metadata": {},
   "outputs": [],
   "source": [
    "df.data_source.loc[df.data_source[\"property_type\"] == 'Apartaestudio', \"property_type\"] = 'Apartamento'"
   ]
  },
  {
   "cell_type": "code",
   "execution_count": 412,
   "metadata": {},
   "outputs": [
    {
     "data": {
      "text/plain": [
       "array(['Casa', 'Apartamento'], dtype=object)"
      ]
     },
     "execution_count": 412,
     "metadata": {},
     "output_type": "execute_result"
    }
   ],
   "source": [
    "df.data_source[\"property_type\"].unique()"
   ]
  },
  {
   "cell_type": "code",
   "execution_count": 413,
   "metadata": {},
   "outputs": [
    {
     "name": "stdout",
     "output_type": "stream",
     "text": [
      "# Rows  6336 # Columns  14\n",
      "\n",
      " Columns \n",
      " ['index', 'post_id', 'post_title', 'condition', 'estrato', 'property_type', 'city', 'neighborhood', 'Area', 'bedrooms', 'bathrooms', 'garages', 'post_link', 'Price']\n",
      "\n",
      " Nullls  15\n",
      "\n",
      " Unique values \n",
      " index            3067\n",
      "post_id          6336\n",
      "post_title       6285\n",
      "condition           2\n",
      "estrato             5\n",
      "property_type       2\n",
      "city                1\n",
      "neighborhood      154\n",
      "Area              545\n",
      "bedrooms           20\n",
      "bathrooms          11\n",
      "garages            11\n",
      "post_link        6336\n",
      "Price             704\n",
      "dtype: int64\n",
      "(6336, 14)\n"
     ]
    }
   ],
   "source": [
    "print(\"# Rows \", df.data_source.shape[0],\"# Columns \", df.data_source.shape[1])\n",
    "print(\"\\n Columns \\n\", df.data_source.columns.tolist())\n",
    "print(\"\\n Nullls \",df.data_source.isnull().sum().values.sum())\n",
    "print(\"\\n Unique values \\n\", df.data_source.nunique())\n",
    "print(df.data_source.shape)"
   ]
  },
  {
   "cell_type": "code",
   "execution_count": 429,
   "metadata": {},
   "outputs": [
    {
     "data": {
      "text/plain": [
       "condition        15\n",
       "index             0\n",
       "post_id           0\n",
       "post_title        0\n",
       "estrato           0\n",
       "property_type     0\n",
       "city              0\n",
       "neighborhood      0\n",
       "Area              0\n",
       "bedrooms          0\n",
       "bathrooms         0\n",
       "garages           0\n",
       "post_link         0\n",
       "Price             0\n",
       "dtype: int64"
      ]
     },
     "execution_count": 429,
     "metadata": {},
     "output_type": "execute_result"
    }
   ],
   "source": [
    "df.data_source.isnull().sum().sort_values(ascending=False)"
   ]
  },
  {
   "cell_type": "code",
   "execution_count": 430,
   "metadata": {},
   "outputs": [],
   "source": [
    "df.delete_nan('condition')"
   ]
  },
  {
   "cell_type": "code",
   "execution_count": 431,
   "metadata": {},
   "outputs": [
    {
     "data": {
      "text/plain": [
       "index            0\n",
       "post_id          0\n",
       "post_title       0\n",
       "condition        0\n",
       "estrato          0\n",
       "property_type    0\n",
       "city             0\n",
       "neighborhood     0\n",
       "Area             0\n",
       "bedrooms         0\n",
       "bathrooms        0\n",
       "garages          0\n",
       "post_link        0\n",
       "Price            0\n",
       "dtype: int64"
      ]
     },
     "execution_count": 431,
     "metadata": {},
     "output_type": "execute_result"
    }
   ],
   "source": [
    "df.data_source.isnull().sum().sort_values(ascending=False)"
   ]
  },
  {
   "cell_type": "code",
   "execution_count": 432,
   "metadata": {},
   "outputs": [],
   "source": [
    "#EDA"
   ]
  },
  {
   "cell_type": "code",
   "execution_count": 433,
   "metadata": {},
   "outputs": [
    {
     "name": "stdout",
     "output_type": "stream",
     "text": [
      "# Rows  6321 # Columns  14\n",
      "\n",
      " Columns \n",
      " ['index', 'post_id', 'post_title', 'condition', 'estrato', 'property_type', 'city', 'neighborhood', 'Area', 'bedrooms', 'bathrooms', 'garages', 'post_link', 'Price']\n",
      "\n",
      " Nullls  0\n",
      "\n",
      " Unique values \n",
      " index            3065\n",
      "post_id          6321\n",
      "post_title       6270\n",
      "condition           2\n",
      "estrato             5\n",
      "property_type       2\n",
      "city                1\n",
      "neighborhood      154\n",
      "Area              545\n",
      "bedrooms           20\n",
      "bathrooms          11\n",
      "garages            11\n",
      "post_link        6321\n",
      "Price             702\n",
      "dtype: int64\n",
      "(6321, 14)\n"
     ]
    }
   ],
   "source": [
    "print(\"# Rows \", df.data_source.shape[0],\"# Columns \", df.data_source.shape[1])\n",
    "print(\"\\n Columns \\n\", df.data_source.columns.tolist())\n",
    "print(\"\\n Nullls \",df.data_source.isnull().sum().values.sum())\n",
    "print(\"\\n Unique values \\n\", df.data_source.nunique())\n",
    "print(df.data_source.shape)"
   ]
  },
  {
   "cell_type": "code",
   "execution_count": 434,
   "metadata": {},
   "outputs": [],
   "source": [
    "df.data_source.estrato = df.data_source.estrato.astype(str)"
   ]
  },
  {
   "cell_type": "code",
   "execution_count": 277,
   "metadata": {},
   "outputs": [
    {
     "name": "stdout",
     "output_type": "stream",
     "text": [
      "<class 'pandas.core.frame.DataFrame'>\n",
      "Int64Index: 6321 entries, 0 to 9383\n",
      "Data columns (total 14 columns):\n",
      " #   Column         Non-Null Count  Dtype \n",
      "---  ------         --------------  ----- \n",
      " 0   index          6321 non-null   int64 \n",
      " 1   post_id        6321 non-null   int64 \n",
      " 2   post_title     6321 non-null   object\n",
      " 3   condition      6321 non-null   object\n",
      " 4   estrato        6321 non-null   object\n",
      " 5   property_type  6321 non-null   object\n",
      " 6   city           6321 non-null   object\n",
      " 7   neighborhood   6321 non-null   object\n",
      " 8   Area           6321 non-null   int64 \n",
      " 9   bedrooms       6321 non-null   int64 \n",
      " 10  bathrooms      6321 non-null   int64 \n",
      " 11  garages        6321 non-null   int64 \n",
      " 12  post_link      6321 non-null   object\n",
      " 13  Price          6321 non-null   int64 \n",
      "dtypes: int64(7), object(7)\n",
      "memory usage: 740.7+ KB\n"
     ]
    }
   ],
   "source": [
    "df.data_source.info()"
   ]
  },
  {
   "cell_type": "code",
   "execution_count": 278,
   "metadata": {},
   "outputs": [
    {
     "data": {
      "text/html": [
       "<div>\n",
       "<style scoped>\n",
       "    .dataframe tbody tr th:only-of-type {\n",
       "        vertical-align: middle;\n",
       "    }\n",
       "\n",
       "    .dataframe tbody tr th {\n",
       "        vertical-align: top;\n",
       "    }\n",
       "\n",
       "    .dataframe thead th {\n",
       "        text-align: right;\n",
       "    }\n",
       "</style>\n",
       "<table border=\"1\" class=\"dataframe\">\n",
       "  <thead>\n",
       "    <tr style=\"text-align: right;\">\n",
       "      <th></th>\n",
       "      <th>index</th>\n",
       "      <th>post_id</th>\n",
       "      <th>Area</th>\n",
       "      <th>bedrooms</th>\n",
       "      <th>bathrooms</th>\n",
       "      <th>garages</th>\n",
       "      <th>Price</th>\n",
       "    </tr>\n",
       "  </thead>\n",
       "  <tbody>\n",
       "    <tr>\n",
       "      <th>count</th>\n",
       "      <td>6321.000000</td>\n",
       "      <td>6.321000e+03</td>\n",
       "      <td>6321.000000</td>\n",
       "      <td>6321.000000</td>\n",
       "      <td>6321.000000</td>\n",
       "      <td>6321.000000</td>\n",
       "      <td>6.321000e+03</td>\n",
       "    </tr>\n",
       "    <tr>\n",
       "      <th>mean</th>\n",
       "      <td>1223.217529</td>\n",
       "      <td>6.118333e+06</td>\n",
       "      <td>159.033855</td>\n",
       "      <td>3.136529</td>\n",
       "      <td>2.563518</td>\n",
       "      <td>1.155988</td>\n",
       "      <td>7.127537e+08</td>\n",
       "    </tr>\n",
       "    <tr>\n",
       "      <th>std</th>\n",
       "      <td>979.395811</td>\n",
       "      <td>1.140838e+06</td>\n",
       "      <td>131.650084</td>\n",
       "      <td>1.498901</td>\n",
       "      <td>1.219485</td>\n",
       "      <td>0.878379</td>\n",
       "      <td>1.347393e+10</td>\n",
       "    </tr>\n",
       "    <tr>\n",
       "      <th>min</th>\n",
       "      <td>1.000000</td>\n",
       "      <td>1.467780e+06</td>\n",
       "      <td>1.000000</td>\n",
       "      <td>0.000000</td>\n",
       "      <td>0.000000</td>\n",
       "      <td>0.000000</td>\n",
       "      <td>1.500000e+07</td>\n",
       "    </tr>\n",
       "    <tr>\n",
       "      <th>25%</th>\n",
       "      <td>364.000000</td>\n",
       "      <td>5.471274e+06</td>\n",
       "      <td>82.000000</td>\n",
       "      <td>3.000000</td>\n",
       "      <td>2.000000</td>\n",
       "      <td>1.000000</td>\n",
       "      <td>2.500000e+08</td>\n",
       "    </tr>\n",
       "    <tr>\n",
       "      <th>50%</th>\n",
       "      <td>954.000000</td>\n",
       "      <td>6.582478e+06</td>\n",
       "      <td>111.000000</td>\n",
       "      <td>3.000000</td>\n",
       "      <td>2.000000</td>\n",
       "      <td>1.000000</td>\n",
       "      <td>3.411040e+08</td>\n",
       "    </tr>\n",
       "    <tr>\n",
       "      <th>75%</th>\n",
       "      <td>2014.000000</td>\n",
       "      <td>7.023517e+06</td>\n",
       "      <td>178.000000</td>\n",
       "      <td>3.000000</td>\n",
       "      <td>3.000000</td>\n",
       "      <td>1.000000</td>\n",
       "      <td>5.300000e+08</td>\n",
       "    </tr>\n",
       "    <tr>\n",
       "      <th>max</th>\n",
       "      <td>3400.000000</td>\n",
       "      <td>7.196630e+06</td>\n",
       "      <td>990.000000</td>\n",
       "      <td>20.000000</td>\n",
       "      <td>10.000000</td>\n",
       "      <td>10.000000</td>\n",
       "      <td>9.000000e+11</td>\n",
       "    </tr>\n",
       "  </tbody>\n",
       "</table>\n",
       "</div>"
      ],
      "text/plain": [
       "             index       post_id         Area     bedrooms    bathrooms  \\\n",
       "count  6321.000000  6.321000e+03  6321.000000  6321.000000  6321.000000   \n",
       "mean   1223.217529  6.118333e+06   159.033855     3.136529     2.563518   \n",
       "std     979.395811  1.140838e+06   131.650084     1.498901     1.219485   \n",
       "min       1.000000  1.467780e+06     1.000000     0.000000     0.000000   \n",
       "25%     364.000000  5.471274e+06    82.000000     3.000000     2.000000   \n",
       "50%     954.000000  6.582478e+06   111.000000     3.000000     2.000000   \n",
       "75%    2014.000000  7.023517e+06   178.000000     3.000000     3.000000   \n",
       "max    3400.000000  7.196630e+06   990.000000    20.000000    10.000000   \n",
       "\n",
       "           garages         Price  \n",
       "count  6321.000000  6.321000e+03  \n",
       "mean      1.155988  7.127537e+08  \n",
       "std       0.878379  1.347393e+10  \n",
       "min       0.000000  1.500000e+07  \n",
       "25%       1.000000  2.500000e+08  \n",
       "50%       1.000000  3.411040e+08  \n",
       "75%       1.000000  5.300000e+08  \n",
       "max      10.000000  9.000000e+11  "
      ]
     },
     "execution_count": 278,
     "metadata": {},
     "output_type": "execute_result"
    }
   ],
   "source": [
    "df.data_source.describe()"
   ]
  },
  {
   "cell_type": "code",
   "execution_count": 435,
   "metadata": {},
   "outputs": [],
   "source": [
    "plots = plotting(df.data_source)"
   ]
  },
  {
   "cell_type": "code",
   "execution_count": 280,
   "metadata": {},
   "outputs": [
    {
     "data": {
      "image/png": "[encoded data removed]",
      "text/plain": [
       "<Figure size 360x360 with 1 Axes>"
      ]
     },
     "metadata": {
      "needs_background": "light"
     },
     "output_type": "display_data"
    }
   ],
   "source": [
    "plots.plot_distr('bathrooms')"
   ]
  },
  {
   "cell_type": "code",
   "execution_count": 144,
   "metadata": {},
   "outputs": [
    {
     "data": {
      "image/png": "[encoded data removed]",
      "text/plain": [
       "<Figure size 360x360 with 1 Axes>"
      ]
     },
     "metadata": {
      "needs_background": "light"
     },
     "output_type": "display_data"
    }
   ],
   "source": [
    "plots.plot_distr('bedrooms')"
   ]
  },
  {
   "cell_type": "code",
   "execution_count": 145,
   "metadata": {},
   "outputs": [
    {
     "data": {
      "image/png": "[encoded data removed]",
      "text/plain": [
       "<Figure size 432x288 with 2 Axes>"
      ]
     },
     "metadata": {
      "needs_background": "light"
     },
     "output_type": "display_data"
    }
   ],
   "source": [
    "plots.plot_corr()"
   ]
  },
  {
   "cell_type": "code",
   "execution_count": 94,
   "metadata": {},
   "outputs": [],
   "source": [
    "#plots.plot_histo()"
   ]
  },
  {
   "cell_type": "code",
   "execution_count": 35,
   "metadata": {},
   "outputs": [
    {
     "data": {
      "text/plain": [
       "Index(['post_title', 'condition', 'property_type', 'city', 'neighborhood',\n",
       "       'post_link'],\n",
       "      dtype='object')"
      ]
     },
     "execution_count": 35,
     "metadata": {},
     "output_type": "execute_result"
    }
   ],
   "source": [
    "columns_cat = df.data_source.select_dtypes(include=[\"object\"]).columns\n",
    "columns_cat "
   ]
  },
  {
   "cell_type": "code",
   "execution_count": 37,
   "metadata": {},
   "outputs": [],
   "source": [
    "df.drop_column('post_title')\n",
    "df.drop_column('post_link')\n",
    "df.drop_column('city')"
   ]
  },
  {
   "cell_type": "code",
   "execution_count": 38,
   "metadata": {},
   "outputs": [
    {
     "data": {
      "text/plain": [
       "Index(['condition', 'property_type', 'neighborhood'], dtype='object')"
      ]
     },
     "execution_count": 38,
     "metadata": {},
     "output_type": "execute_result"
    }
   ],
   "source": [
    "columns_cat = df.data_source.select_dtypes(include=[\"object\"]).columns\n",
    "columns_cat "
   ]
  },
  {
   "cell_type": "code",
   "execution_count": 43,
   "metadata": {},
   "outputs": [],
   "source": [
    "ohe = OneHotEncoder()"
   ]
  },
  {
   "cell_type": "code",
   "execution_count": 42,
   "metadata": {},
   "outputs": [
    {
     "name": "stdout",
     "output_type": "stream",
     "text": [
      "<class 'pandas.core.frame.DataFrame'>\n",
      "Int64Index: 6321 entries, 0 to 9383\n",
      "Data columns (total 11 columns):\n",
      " #   Column         Non-Null Count  Dtype \n",
      "---  ------         --------------  ----- \n",
      " 0   index          6321 non-null   int64 \n",
      " 1   post_id        6321 non-null   int64 \n",
      " 2   condition      6321 non-null   object\n",
      " 3   estrato        6321 non-null   int64 \n",
      " 4   property_type  6321 non-null   object\n",
      " 5   neighborhood   6321 non-null   object\n",
      " 6   Area           6321 non-null   int64 \n",
      " 7   bedrooms       6321 non-null   int64 \n",
      " 8   bathrooms      6321 non-null   int64 \n",
      " 9   garages        6321 non-null   int64 \n",
      " 10  Price          6321 non-null   int64 \n",
      "dtypes: int64(8), object(3)\n",
      "memory usage: 592.6+ KB\n"
     ]
    }
   ],
   "source": [
    "df.data_source.info()"
   ]
  },
  {
   "cell_type": "code",
   "execution_count": 45,
   "metadata": {},
   "outputs": [],
   "source": [
    "encoded_data = ohe.fit_transform(df.data_source[columns_cat])"
   ]
  },
  {
   "cell_type": "code",
   "execution_count": 46,
   "metadata": {},
   "outputs": [
    {
     "data": {
      "text/plain": [
       "<6321x158 sparse matrix of type '<class 'numpy.float64'>'\n",
       "\twith 18963 stored elements in Compressed Sparse Row format>"
      ]
     },
     "execution_count": 46,
     "metadata": {},
     "output_type": "execute_result"
    }
   ],
   "source": [
    "encoded_data"
   ]
  },
  {
   "cell_type": "code",
   "execution_count": 47,
   "metadata": {},
   "outputs": [],
   "source": [
    "cat_cols_encoded = []\n",
    "for col in columns_cat :\n",
    "  cat_cols_encoded += [f\"{col[0]}_{cat}\" for cat in list(df.data_source[col].unique())]"
   ]
  },
  {
   "cell_type": "code",
   "execution_count": 48,
   "metadata": {
    "collapsed": true,
    "jupyter": {
     "outputs_hidden": true
    }
   },
   "outputs": [
    {
     "data": {
      "text/plain": [
       "['c_Usado',\n",
       " 'c_Inmobiliaria',\n",
       " 'p_Casa',\n",
       " 'p_Apartamento',\n",
       " 'n_Villa Sevilla',\n",
       " 'n_El Prado',\n",
       " 'n_El Bosque',\n",
       " 'n_Altos del Prado',\n",
       " 'n_Paraíso',\n",
       " 'n_Alameda del Rio',\n",
       " 'n_Las Terrazas',\n",
       " 'n_San Luis',\n",
       " 'n_Las Américas',\n",
       " 'n_Los Almendros',\n",
       " 'n_Caribe Verde',\n",
       " 'n_Santa María',\n",
       " 'n_Ciudad Jardín',\n",
       " 'n_Villa del Carmen',\n",
       " 'n_Soledad 2000',\n",
       " 'n_Villas San Pablo',\n",
       " 'n_Villa de las Moras',\n",
       " 'n_Ciudad Caribe',\n",
       " 'n_Riomar',\n",
       " 'n_Altos del Limón',\n",
       " 'n_La Florida',\n",
       " 'n_Las Granjas',\n",
       " 'n_Lucero',\n",
       " 'n_Los Laureles',\n",
       " 'n_El Santuario',\n",
       " 'n_Villa María',\n",
       " 'n_Carrizal',\n",
       " 'n_Los Girasoles',\n",
       " 'n_Carlos Meisel',\n",
       " 'n_7 de Abril.',\n",
       " 'n_Ciudad Modesto',\n",
       " 'n_Miramar',\n",
       " 'n_Villa San Pedro I y II',\n",
       " 'n_Santo Domingo de Guzmán',\n",
       " 'n_Norte-Centro Histórico',\n",
       " 'n_Barranquilla',\n",
       " 'n_El Rubí',\n",
       " 'n_José Antonio Galán',\n",
       " 'n_El Limón',\n",
       " 'n_Los Cocos',\n",
       " 'n_Las Nieves',\n",
       " 'n_Las Moras',\n",
       " 'n_El Rosario',\n",
       " 'n_El Campito',\n",
       " 'n_Moderno',\n",
       " 'n_San José',\n",
       " 'n_La Sierra',\n",
       " 'n_Las Colinas',\n",
       " 'n_Las Estrellas',\n",
       " 'n_Las Cayenas',\n",
       " 'n_San Nicolás',\n",
       " 'n_El Hipódromo',\n",
       " 'n_San Felipe',\n",
       " 'n_El Parque',\n",
       " 'n_El Manantial',\n",
       " 'n_Urbanización Eduardo santos la playa',\n",
       " 'n_Ciudadela Metropolitan',\n",
       " 'n_Olaya',\n",
       " 'n_Las Trinitarias',\n",
       " 'n_Los Trupillos',\n",
       " 'n_Adela de Char',\n",
       " 'n_Costa Hermosa',\n",
       " 'n_Ciudadela Metropolitana',\n",
       " 'n_Villa Olimpica',\n",
       " 'n_Adelita de Char Etp. 3',\n",
       " 'n_Los Robles',\n",
       " 'n_Adelita de Char Etp. 2',\n",
       " 'n_Ciudadela 20 de Julio',\n",
       " 'n_Vista Hermosa',\n",
       " 'n_La Unión',\n",
       " 'n_Centro',\n",
       " 'n_Montes',\n",
       " 'n_La Alboraya',\n",
       " 'n_El Pueblo',\n",
       " 'n_El Valle',\n",
       " 'n_Tayrona',\n",
       " 'n_soledad',\n",
       " 'n_Las Palmas',\n",
       " 'n_Los Olivos I y II',\n",
       " 'n_Universal I y II',\n",
       " 'n_San Salvador',\n",
       " 'n_La Ceiba',\n",
       " 'n_Kennedy',\n",
       " 'n_Pasadena',\n",
       " 'n_San Isidro',\n",
       " 'n_La Victoria',\n",
       " 'n_El Silencio',\n",
       " 'n_Simón Bolívar',\n",
       " 'n_Oriental',\n",
       " 'n_La Sierrita',\n",
       " 'n_San Roque',\n",
       " 'n_La Pradera',\n",
       " 'n_Villa Campestre',\n",
       " 'n_Buena Esperanza',\n",
       " 'n_Los Continentes',\n",
       " 'n_Chiquinquirá',\n",
       " 'n_Cordialidad',\n",
       " 'n_El Golf',\n",
       " 'n_Puerta Dorada',\n",
       " 'n_20 de julio',\n",
       " 'n_Campo Alegre',\n",
       " 'n_San Francisco',\n",
       " 'n_Barrio Abajo',\n",
       " 'n_El Tabor',\n",
       " 'n_Los Andes',\n",
       " 'n_Boston',\n",
       " 'n_Las Delicias',\n",
       " 'n_El Recreo',\n",
       " 'n_Los Pinos',\n",
       " 'n_El Carmen',\n",
       " 'n_Betania',\n",
       " 'n_Los Nogales',\n",
       " 'n_Cevillar',\n",
       " 'n_La Campiña',\n",
       " 'n_Pradomar',\n",
       " 'n_Las Mercedes',\n",
       " 'n_El Castillo',\n",
       " 'n_La Floresta',\n",
       " 'n_La Concepción',\n",
       " 'n_El Limoncito',\n",
       " 'n_circunvalar',\n",
       " 'n_Villa Santos',\n",
       " 'n_La Magdalena',\n",
       " 'n_suroccidente',\n",
       " 'n_Villa Country',\n",
       " 'n_Villa Carolina',\n",
       " 'n_Nuevo Horizonte',\n",
       " 'n_Andalucía',\n",
       " 'n_San Marino',\n",
       " 'n_Alfonso López',\n",
       " 'n_Nueva Esperanza',\n",
       " 'n_Altos de Riomar',\n",
       " 'n_Modelo',\n",
       " 'n_Colombia',\n",
       " 'n_El Porvenir',\n",
       " 'n_Bellavista',\n",
       " 'n_Santa Ana',\n",
       " 'n_Montecristo',\n",
       " 'n_Las Tres Avemarías',\n",
       " 'n_Barranquillita',\n",
       " 'n_Los Alpes',\n",
       " 'n_Villamar',\n",
       " 'n_Los Jobos',\n",
       " 'n_La Cumbre',\n",
       " 'n_Villa del Este',\n",
       " 'n_Buenavista',\n",
       " 'n_Granadillo',\n",
       " 'n_San Vicente',\n",
       " 'n_Las Mercedes Sur',\n",
       " 'n_Puerto Colombia',\n",
       " 'n_Altamira',\n",
       " 'n_Santa Mónica',\n",
       " 'n_La Castellana',\n",
       " 'n_7 de agosto']"
      ]
     },
     "execution_count": 48,
     "metadata": {},
     "output_type": "execute_result"
    }
   ],
   "source": [
    "cat_cols_encoded"
   ]
  },
  {
   "cell_type": "code",
   "execution_count": 283,
   "metadata": {},
   "outputs": [],
   "source": [
    "df_10 = df_data_source(df_posts,'aaaaaaaa')"
   ]
  },
  {
   "cell_type": "code",
   "execution_count": 284,
   "metadata": {},
   "outputs": [
    {
     "data": {
      "text/html": [
       "<div>\n",
       "<style scoped>\n",
       "    .dataframe tbody tr th:only-of-type {\n",
       "        vertical-align: middle;\n",
       "    }\n",
       "\n",
       "    .dataframe tbody tr th {\n",
       "        vertical-align: top;\n",
       "    }\n",
       "\n",
       "    .dataframe thead th {\n",
       "        text-align: right;\n",
       "    }\n",
       "</style>\n",
       "<table border=\"1\" class=\"dataframe\">\n",
       "  <thead>\n",
       "    <tr style=\"text-align: right;\">\n",
       "      <th></th>\n",
       "      <th>index</th>\n",
       "      <th>post_id</th>\n",
       "      <th>post_title</th>\n",
       "      <th>bussiness_type</th>\n",
       "      <th>condition</th>\n",
       "      <th>estrato</th>\n",
       "      <th>property_type</th>\n",
       "      <th>city</th>\n",
       "      <th>neighborhood</th>\n",
       "      <th>Area</th>\n",
       "      <th>bedrooms</th>\n",
       "      <th>bathrooms</th>\n",
       "      <th>garages</th>\n",
       "      <th>post_link</th>\n",
       "      <th>Price</th>\n",
       "    </tr>\n",
       "  </thead>\n",
       "  <tbody>\n",
       "    <tr>\n",
       "      <th>0</th>\n",
       "      <td>1</td>\n",
       "      <td>7172619</td>\n",
       "      <td>Usado$250.000.000 COP224m² • 3ha. • 1ba.villac...</td>\n",
       "      <td>Venta</td>\n",
       "      <td>Usado</td>\n",
       "      <td>1</td>\n",
       "      <td>Casa</td>\n",
       "      <td>barranquilla</td>\n",
       "      <td>Villa Sevilla</td>\n",
       "      <td>224</td>\n",
       "      <td>3</td>\n",
       "      <td>1</td>\n",
       "      <td>0</td>\n",
       "      <td>https://www.fincaraiz.com.co/inmueble/casa-en-...</td>\n",
       "      <td>250000000</td>\n",
       "    </tr>\n",
       "    <tr>\n",
       "      <th>1</th>\n",
       "      <td>2</td>\n",
       "      <td>7127871</td>\n",
       "      <td>UsadoInmobiliaria$240.000.000 COP88m² • 3ha. •...</td>\n",
       "      <td>Venta</td>\n",
       "      <td>Usado</td>\n",
       "      <td>1</td>\n",
       "      <td>Apartamento</td>\n",
       "      <td>barranquilla</td>\n",
       "      <td>El Prado</td>\n",
       "      <td>88</td>\n",
       "      <td>3</td>\n",
       "      <td>2</td>\n",
       "      <td>1</td>\n",
       "      <td>https://www.fincaraiz.com.co/inmueble/apartame...</td>\n",
       "      <td>240000000</td>\n",
       "    </tr>\n",
       "    <tr>\n",
       "      <th>2</th>\n",
       "      <td>3</td>\n",
       "      <td>7187797</td>\n",
       "      <td>Usado$70.000.000 COP104m² • 3ha. • 1ba.bosque ...</td>\n",
       "      <td>Venta</td>\n",
       "      <td>Usado</td>\n",
       "      <td>1</td>\n",
       "      <td>Casa</td>\n",
       "      <td>barranquilla</td>\n",
       "      <td>El Bosque</td>\n",
       "      <td>104</td>\n",
       "      <td>3</td>\n",
       "      <td>1</td>\n",
       "      <td>0</td>\n",
       "      <td>https://www.fincaraiz.com.co/inmueble/casa-en-...</td>\n",
       "      <td>70000000</td>\n",
       "    </tr>\n",
       "    <tr>\n",
       "      <th>3</th>\n",
       "      <td>4</td>\n",
       "      <td>7037686</td>\n",
       "      <td>UsadoInmobiliaria$1.200.000.000 COP600m² • 3ba...</td>\n",
       "      <td>Venta</td>\n",
       "      <td>Usado</td>\n",
       "      <td>1</td>\n",
       "      <td>Casa</td>\n",
       "      <td>barranquilla</td>\n",
       "      <td>Altos del Prado</td>\n",
       "      <td>600</td>\n",
       "      <td>3</td>\n",
       "      <td>5</td>\n",
       "      <td>0</td>\n",
       "      <td>https://www.fincaraiz.com.co/inmueble/casa-en-...</td>\n",
       "      <td>1200000000</td>\n",
       "    </tr>\n",
       "    <tr>\n",
       "      <th>4</th>\n",
       "      <td>5</td>\n",
       "      <td>7162861</td>\n",
       "      <td>UsadoInmobiliaria$350.000.000 COP4m² • 3ha. • ...</td>\n",
       "      <td>Venta</td>\n",
       "      <td>Usado</td>\n",
       "      <td>1</td>\n",
       "      <td>Casa</td>\n",
       "      <td>barranquilla</td>\n",
       "      <td>Paraíso</td>\n",
       "      <td>4</td>\n",
       "      <td>3</td>\n",
       "      <td>3</td>\n",
       "      <td>1</td>\n",
       "      <td>https://www.fincaraiz.com.co/inmueble/casa-en-...</td>\n",
       "      <td>350000000</td>\n",
       "    </tr>\n",
       "  </tbody>\n",
       "</table>\n",
       "</div>"
      ],
      "text/plain": [
       "   index  post_id                                         post_title  \\\n",
       "0      1  7172619  Usado$250.000.000 COP224m² • 3ha. • 1ba.villac...   \n",
       "1      2  7127871  UsadoInmobiliaria$240.000.000 COP88m² • 3ha. •...   \n",
       "2      3  7187797  Usado$70.000.000 COP104m² • 3ha. • 1ba.bosque ...   \n",
       "3      4  7037686  UsadoInmobiliaria$1.200.000.000 COP600m² • 3ba...   \n",
       "4      5  7162861  UsadoInmobiliaria$350.000.000 COP4m² • 3ha. • ...   \n",
       "\n",
       "  bussiness_type condition  estrato property_type          city  \\\n",
       "0          Venta     Usado        1          Casa  barranquilla   \n",
       "1          Venta     Usado        1   Apartamento  barranquilla   \n",
       "2          Venta     Usado        1          Casa  barranquilla   \n",
       "3          Venta     Usado        1          Casa  barranquilla   \n",
       "4          Venta     Usado        1          Casa  barranquilla   \n",
       "\n",
       "      neighborhood  Area  bedrooms  bathrooms  garages  \\\n",
       "0    Villa Sevilla   224         3          1        0   \n",
       "1         El Prado    88         3          2        1   \n",
       "2        El Bosque   104         3          1        0   \n",
       "3  Altos del Prado   600         3          5        0   \n",
       "4          Paraíso     4         3          3        1   \n",
       "\n",
       "                                           post_link       Price  \n",
       "0  https://www.fincaraiz.com.co/inmueble/casa-en-...   250000000  \n",
       "1  https://www.fincaraiz.com.co/inmueble/apartame...   240000000  \n",
       "2  https://www.fincaraiz.com.co/inmueble/casa-en-...    70000000  \n",
       "3  https://www.fincaraiz.com.co/inmueble/casa-en-...  1200000000  \n",
       "4  https://www.fincaraiz.com.co/inmueble/casa-en-...   350000000  "
      ]
     },
     "execution_count": 284,
     "metadata": {},
     "output_type": "execute_result"
    }
   ],
   "source": [
    "df_10.data_source.head()"
   ]
  },
  {
   "cell_type": "code",
   "execution_count": 460,
   "metadata": {},
   "outputs": [
    {
     "name": "stderr",
     "output_type": "stream",
     "text": [
      "C:\\Users\\ends0\\anaconda3\\lib\\site-packages\\ipykernel_launcher.py:5: FutureWarning: In a future version of pandas all arguments of DataFrame.drop except for the argument 'labels' will be keyword-only\n",
      "  \"\"\"\n"
     ]
    },
    {
     "ename": "KeyError",
     "evalue": "\"['post_title'] not found in axis\"",
     "output_type": "error",
     "traceback": [
      "\u001b[1;31m---------------------------------------------------------------------------\u001b[0m",
      "\u001b[1;31mKeyError\u001b[0m                                  Traceback (most recent call last)",
      "\u001b[1;32m<ipython-input-460-a9378c0ecfe5>\u001b[0m in \u001b[0;36m<module>\u001b[1;34m\u001b[0m\n\u001b[1;32m----> 1\u001b[1;33m \u001b[0mencoder\u001b[0m \u001b[1;33m=\u001b[0m \u001b[0moh_encoder\u001b[0m\u001b[1;33m(\u001b[0m\u001b[0mdf\u001b[0m\u001b[1;33m.\u001b[0m\u001b[0mdata_source\u001b[0m\u001b[1;33m)\u001b[0m\u001b[1;33m\u001b[0m\u001b[1;33m\u001b[0m\u001b[0m\n\u001b[0m",
      "\u001b[1;32m<ipython-input-459-c1a0381fb3ef>\u001b[0m in \u001b[0;36m__init__\u001b[1;34m(self, data)\u001b[0m\n\u001b[0;32m      3\u001b[0m         \u001b[0msuper\u001b[0m\u001b[1;33m(\u001b[0m\u001b[0mOneHotEncoder\u001b[0m\u001b[1;33m,\u001b[0m \u001b[0mself\u001b[0m\u001b[1;33m)\u001b[0m\u001b[1;33m.\u001b[0m\u001b[0m__init__\u001b[0m\u001b[1;33m(\u001b[0m\u001b[1;33m)\u001b[0m\u001b[1;33m\u001b[0m\u001b[1;33m\u001b[0m\u001b[0m\n\u001b[0;32m      4\u001b[0m         \u001b[0mself\u001b[0m\u001b[1;33m.\u001b[0m\u001b[0mdata\u001b[0m \u001b[1;33m=\u001b[0m \u001b[0mdata\u001b[0m\u001b[1;33m\u001b[0m\u001b[1;33m\u001b[0m\u001b[0m\n\u001b[1;32m----> 5\u001b[1;33m         \u001b[0mself\u001b[0m\u001b[1;33m.\u001b[0m\u001b[0mdata\u001b[0m\u001b[1;33m.\u001b[0m\u001b[0mdrop\u001b[0m \u001b[1;33m(\u001b[0m\u001b[1;33m[\u001b[0m\u001b[1;34m'post_title'\u001b[0m\u001b[1;33m]\u001b[0m\u001b[1;33m,\u001b[0m \u001b[1;36m1\u001b[0m\u001b[1;33m,\u001b[0m \u001b[0minplace\u001b[0m\u001b[1;33m=\u001b[0m\u001b[1;32mTrue\u001b[0m\u001b[1;33m)\u001b[0m\u001b[1;33m\u001b[0m\u001b[1;33m\u001b[0m\u001b[0m\n\u001b[0m\u001b[0;32m      6\u001b[0m         \u001b[0mself\u001b[0m\u001b[1;33m.\u001b[0m\u001b[0mdata\u001b[0m\u001b[1;33m.\u001b[0m\u001b[0mdrop\u001b[0m\u001b[1;33m(\u001b[0m\u001b[1;33m[\u001b[0m\u001b[1;34m'post_link'\u001b[0m\u001b[1;33m]\u001b[0m\u001b[1;33m,\u001b[0m \u001b[1;36m1\u001b[0m\u001b[1;33m,\u001b[0m \u001b[0minplace\u001b[0m\u001b[1;33m=\u001b[0m\u001b[1;32mTrue\u001b[0m\u001b[1;33m)\u001b[0m\u001b[1;33m\u001b[0m\u001b[1;33m\u001b[0m\u001b[0m\n\u001b[0;32m      7\u001b[0m         \u001b[0mself\u001b[0m\u001b[1;33m.\u001b[0m\u001b[0mdata\u001b[0m\u001b[1;33m.\u001b[0m\u001b[0mdrop\u001b[0m\u001b[1;33m(\u001b[0m\u001b[1;33m[\u001b[0m\u001b[1;34m'city'\u001b[0m\u001b[1;33m]\u001b[0m\u001b[1;33m,\u001b[0m \u001b[1;36m1\u001b[0m\u001b[1;33m,\u001b[0m \u001b[0minplace\u001b[0m\u001b[1;33m=\u001b[0m\u001b[1;32mTrue\u001b[0m\u001b[1;33m)\u001b[0m\u001b[1;33m\u001b[0m\u001b[1;33m\u001b[0m\u001b[0m\n",
      "\u001b[1;32m~\\AppData\\Roaming\\Python\\Python37\\site-packages\\pandas\\util\\_decorators.py\u001b[0m in \u001b[0;36mwrapper\u001b[1;34m(*args, **kwargs)\u001b[0m\n\u001b[0;32m    309\u001b[0m                     \u001b[0mstacklevel\u001b[0m\u001b[1;33m=\u001b[0m\u001b[0mstacklevel\u001b[0m\u001b[1;33m,\u001b[0m\u001b[1;33m\u001b[0m\u001b[1;33m\u001b[0m\u001b[0m\n\u001b[0;32m    310\u001b[0m                 )\n\u001b[1;32m--> 311\u001b[1;33m             \u001b[1;32mreturn\u001b[0m \u001b[0mfunc\u001b[0m\u001b[1;33m(\u001b[0m\u001b[1;33m*\u001b[0m\u001b[0margs\u001b[0m\u001b[1;33m,\u001b[0m \u001b[1;33m**\u001b[0m\u001b[0mkwargs\u001b[0m\u001b[1;33m)\u001b[0m\u001b[1;33m\u001b[0m\u001b[1;33m\u001b[0m\u001b[0m\n\u001b[0m\u001b[0;32m    312\u001b[0m \u001b[1;33m\u001b[0m\u001b[0m\n\u001b[0;32m    313\u001b[0m         \u001b[1;32mreturn\u001b[0m \u001b[0mwrapper\u001b[0m\u001b[1;33m\u001b[0m\u001b[1;33m\u001b[0m\u001b[0m\n",
      "\u001b[1;32m~\\AppData\\Roaming\\Python\\Python37\\site-packages\\pandas\\core\\frame.py\u001b[0m in \u001b[0;36mdrop\u001b[1;34m(self, labels, axis, index, columns, level, inplace, errors)\u001b[0m\n\u001b[0;32m   4906\u001b[0m             \u001b[0mlevel\u001b[0m\u001b[1;33m=\u001b[0m\u001b[0mlevel\u001b[0m\u001b[1;33m,\u001b[0m\u001b[1;33m\u001b[0m\u001b[1;33m\u001b[0m\u001b[0m\n\u001b[0;32m   4907\u001b[0m             \u001b[0minplace\u001b[0m\u001b[1;33m=\u001b[0m\u001b[0minplace\u001b[0m\u001b[1;33m,\u001b[0m\u001b[1;33m\u001b[0m\u001b[1;33m\u001b[0m\u001b[0m\n\u001b[1;32m-> 4908\u001b[1;33m             \u001b[0merrors\u001b[0m\u001b[1;33m=\u001b[0m\u001b[0merrors\u001b[0m\u001b[1;33m,\u001b[0m\u001b[1;33m\u001b[0m\u001b[1;33m\u001b[0m\u001b[0m\n\u001b[0m\u001b[0;32m   4909\u001b[0m         )\n\u001b[0;32m   4910\u001b[0m \u001b[1;33m\u001b[0m\u001b[0m\n",
      "\u001b[1;32m~\\AppData\\Roaming\\Python\\Python37\\site-packages\\pandas\\core\\generic.py\u001b[0m in \u001b[0;36mdrop\u001b[1;34m(self, labels, axis, index, columns, level, inplace, errors)\u001b[0m\n\u001b[0;32m   4145\u001b[0m         \u001b[1;32mfor\u001b[0m \u001b[0maxis\u001b[0m\u001b[1;33m,\u001b[0m \u001b[0mlabels\u001b[0m \u001b[1;32min\u001b[0m \u001b[0maxes\u001b[0m\u001b[1;33m.\u001b[0m\u001b[0mitems\u001b[0m\u001b[1;33m(\u001b[0m\u001b[1;33m)\u001b[0m\u001b[1;33m:\u001b[0m\u001b[1;33m\u001b[0m\u001b[1;33m\u001b[0m\u001b[0m\n\u001b[0;32m   4146\u001b[0m             \u001b[1;32mif\u001b[0m \u001b[0mlabels\u001b[0m \u001b[1;32mis\u001b[0m \u001b[1;32mnot\u001b[0m \u001b[1;32mNone\u001b[0m\u001b[1;33m:\u001b[0m\u001b[1;33m\u001b[0m\u001b[1;33m\u001b[0m\u001b[0m\n\u001b[1;32m-> 4147\u001b[1;33m                 \u001b[0mobj\u001b[0m \u001b[1;33m=\u001b[0m \u001b[0mobj\u001b[0m\u001b[1;33m.\u001b[0m\u001b[0m_drop_axis\u001b[0m\u001b[1;33m(\u001b[0m\u001b[0mlabels\u001b[0m\u001b[1;33m,\u001b[0m \u001b[0maxis\u001b[0m\u001b[1;33m,\u001b[0m \u001b[0mlevel\u001b[0m\u001b[1;33m=\u001b[0m\u001b[0mlevel\u001b[0m\u001b[1;33m,\u001b[0m \u001b[0merrors\u001b[0m\u001b[1;33m=\u001b[0m\u001b[0merrors\u001b[0m\u001b[1;33m)\u001b[0m\u001b[1;33m\u001b[0m\u001b[1;33m\u001b[0m\u001b[0m\n\u001b[0m\u001b[0;32m   4148\u001b[0m \u001b[1;33m\u001b[0m\u001b[0m\n\u001b[0;32m   4149\u001b[0m         \u001b[1;32mif\u001b[0m \u001b[0minplace\u001b[0m\u001b[1;33m:\u001b[0m\u001b[1;33m\u001b[0m\u001b[1;33m\u001b[0m\u001b[0m\n",
      "\u001b[1;32m~\\AppData\\Roaming\\Python\\Python37\\site-packages\\pandas\\core\\generic.py\u001b[0m in \u001b[0;36m_drop_axis\u001b[1;34m(self, labels, axis, level, errors)\u001b[0m\n\u001b[0;32m   4180\u001b[0m                 \u001b[0mnew_axis\u001b[0m \u001b[1;33m=\u001b[0m \u001b[0maxis\u001b[0m\u001b[1;33m.\u001b[0m\u001b[0mdrop\u001b[0m\u001b[1;33m(\u001b[0m\u001b[0mlabels\u001b[0m\u001b[1;33m,\u001b[0m \u001b[0mlevel\u001b[0m\u001b[1;33m=\u001b[0m\u001b[0mlevel\u001b[0m\u001b[1;33m,\u001b[0m \u001b[0merrors\u001b[0m\u001b[1;33m=\u001b[0m\u001b[0merrors\u001b[0m\u001b[1;33m)\u001b[0m\u001b[1;33m\u001b[0m\u001b[1;33m\u001b[0m\u001b[0m\n\u001b[0;32m   4181\u001b[0m             \u001b[1;32melse\u001b[0m\u001b[1;33m:\u001b[0m\u001b[1;33m\u001b[0m\u001b[1;33m\u001b[0m\u001b[0m\n\u001b[1;32m-> 4182\u001b[1;33m                 \u001b[0mnew_axis\u001b[0m \u001b[1;33m=\u001b[0m \u001b[0maxis\u001b[0m\u001b[1;33m.\u001b[0m\u001b[0mdrop\u001b[0m\u001b[1;33m(\u001b[0m\u001b[0mlabels\u001b[0m\u001b[1;33m,\u001b[0m \u001b[0merrors\u001b[0m\u001b[1;33m=\u001b[0m\u001b[0merrors\u001b[0m\u001b[1;33m)\u001b[0m\u001b[1;33m\u001b[0m\u001b[1;33m\u001b[0m\u001b[0m\n\u001b[0m\u001b[0;32m   4183\u001b[0m             \u001b[0mresult\u001b[0m \u001b[1;33m=\u001b[0m \u001b[0mself\u001b[0m\u001b[1;33m.\u001b[0m\u001b[0mreindex\u001b[0m\u001b[1;33m(\u001b[0m\u001b[1;33m**\u001b[0m\u001b[1;33m{\u001b[0m\u001b[0maxis_name\u001b[0m\u001b[1;33m:\u001b[0m \u001b[0mnew_axis\u001b[0m\u001b[1;33m}\u001b[0m\u001b[1;33m)\u001b[0m\u001b[1;33m\u001b[0m\u001b[1;33m\u001b[0m\u001b[0m\n\u001b[0;32m   4184\u001b[0m \u001b[1;33m\u001b[0m\u001b[0m\n",
      "\u001b[1;32m~\\AppData\\Roaming\\Python\\Python37\\site-packages\\pandas\\core\\indexes\\base.py\u001b[0m in \u001b[0;36mdrop\u001b[1;34m(self, labels, errors)\u001b[0m\n\u001b[0;32m   6016\u001b[0m         \u001b[1;32mif\u001b[0m \u001b[0mmask\u001b[0m\u001b[1;33m.\u001b[0m\u001b[0many\u001b[0m\u001b[1;33m(\u001b[0m\u001b[1;33m)\u001b[0m\u001b[1;33m:\u001b[0m\u001b[1;33m\u001b[0m\u001b[1;33m\u001b[0m\u001b[0m\n\u001b[0;32m   6017\u001b[0m             \u001b[1;32mif\u001b[0m \u001b[0merrors\u001b[0m \u001b[1;33m!=\u001b[0m \u001b[1;34m\"ignore\"\u001b[0m\u001b[1;33m:\u001b[0m\u001b[1;33m\u001b[0m\u001b[1;33m\u001b[0m\u001b[0m\n\u001b[1;32m-> 6018\u001b[1;33m                 \u001b[1;32mraise\u001b[0m \u001b[0mKeyError\u001b[0m\u001b[1;33m(\u001b[0m\u001b[1;34mf\"{labels[mask]} not found in axis\"\u001b[0m\u001b[1;33m)\u001b[0m\u001b[1;33m\u001b[0m\u001b[1;33m\u001b[0m\u001b[0m\n\u001b[0m\u001b[0;32m   6019\u001b[0m             \u001b[0mindexer\u001b[0m \u001b[1;33m=\u001b[0m \u001b[0mindexer\u001b[0m\u001b[1;33m[\u001b[0m\u001b[1;33m~\u001b[0m\u001b[0mmask\u001b[0m\u001b[1;33m]\u001b[0m\u001b[1;33m\u001b[0m\u001b[1;33m\u001b[0m\u001b[0m\n\u001b[0;32m   6020\u001b[0m         \u001b[1;32mreturn\u001b[0m \u001b[0mself\u001b[0m\u001b[1;33m.\u001b[0m\u001b[0mdelete\u001b[0m\u001b[1;33m(\u001b[0m\u001b[0mindexer\u001b[0m\u001b[1;33m)\u001b[0m\u001b[1;33m\u001b[0m\u001b[1;33m\u001b[0m\u001b[0m\n",
      "\u001b[1;31mKeyError\u001b[0m: \"['post_title'] not found in axis\""
     ]
    }
   ],
   "source": [
    "encoder = oh_encoder(df.data_source)"
   ]
  },
  {
   "cell_type": "code",
   "execution_count": 437,
   "metadata": {},
   "outputs": [
    {
     "name": "stderr",
     "output_type": "stream",
     "text": [
      "C:\\Users\\ends0\\anaconda3\\lib\\site-packages\\ipykernel_launcher.py:11: FutureWarning: In a future version of pandas all arguments of DataFrame.drop except for the argument 'labels' will be keyword-only\n",
      "  # This is added back by InteractiveShellApp.init_path()\n",
      "C:\\Users\\ends0\\anaconda3\\lib\\site-packages\\ipykernel_launcher.py:12: FutureWarning: In a future version of pandas all arguments of DataFrame.drop except for the argument 'labels' will be keyword-only\n",
      "  if sys.path[0] == '':\n",
      "C:\\Users\\ends0\\anaconda3\\lib\\site-packages\\ipykernel_launcher.py:13: FutureWarning: In a future version of pandas all arguments of DataFrame.drop except for the argument 'labels' will be keyword-only\n",
      "  del sys.path[0]\n",
      "C:\\Users\\ends0\\anaconda3\\lib\\site-packages\\ipykernel_launcher.py:28: FutureWarning: In a future version of pandas all arguments of DataFrame.drop except for the argument 'labels' will be keyword-only\n"
     ]
    }
   ],
   "source": [
    "df_encoded = df_data_source(encoder.encode(),'pass')"
   ]
  },
  {
   "cell_type": "code",
   "execution_count": 458,
   "metadata": {},
   "outputs": [
    {
     "data": {
      "text/html": [
       "<div>\n",
       "<style scoped>\n",
       "    .dataframe tbody tr th:only-of-type {\n",
       "        vertical-align: middle;\n",
       "    }\n",
       "\n",
       "    .dataframe tbody tr th {\n",
       "        vertical-align: top;\n",
       "    }\n",
       "\n",
       "    .dataframe thead th {\n",
       "        text-align: right;\n",
       "    }\n",
       "</style>\n",
       "<table border=\"1\" class=\"dataframe\">\n",
       "  <thead>\n",
       "    <tr style=\"text-align: right;\">\n",
       "      <th></th>\n",
       "      <th>c_Usado</th>\n",
       "      <th>c_Inmobiliaria</th>\n",
       "      <th>e_1</th>\n",
       "      <th>e_2</th>\n",
       "      <th>e_3</th>\n",
       "      <th>e_4</th>\n",
       "      <th>e_5</th>\n",
       "      <th>p_Casa</th>\n",
       "      <th>p_Apartamento</th>\n",
       "      <th>n_Villa Sevilla</th>\n",
       "      <th>...</th>\n",
       "      <th>n_Santa Mónica</th>\n",
       "      <th>n_La Castellana</th>\n",
       "      <th>n_7 de agosto</th>\n",
       "      <th>index</th>\n",
       "      <th>post_id</th>\n",
       "      <th>Area</th>\n",
       "      <th>bedrooms</th>\n",
       "      <th>bathrooms</th>\n",
       "      <th>garages</th>\n",
       "      <th>Price</th>\n",
       "    </tr>\n",
       "  </thead>\n",
       "  <tbody>\n",
       "    <tr>\n",
       "      <th>0</th>\n",
       "      <td>0.0</td>\n",
       "      <td>1.0</td>\n",
       "      <td>1.0</td>\n",
       "      <td>0.0</td>\n",
       "      <td>0.0</td>\n",
       "      <td>0.0</td>\n",
       "      <td>0.0</td>\n",
       "      <td>0.0</td>\n",
       "      <td>1.0</td>\n",
       "      <td>0.0</td>\n",
       "      <td>...</td>\n",
       "      <td>0.0</td>\n",
       "      <td>0.0</td>\n",
       "      <td>0.0</td>\n",
       "      <td>1.0</td>\n",
       "      <td>7172619.0</td>\n",
       "      <td>224.0</td>\n",
       "      <td>3.0</td>\n",
       "      <td>1.0</td>\n",
       "      <td>0.0</td>\n",
       "      <td>2.500000e+08</td>\n",
       "    </tr>\n",
       "    <tr>\n",
       "      <th>1</th>\n",
       "      <td>0.0</td>\n",
       "      <td>1.0</td>\n",
       "      <td>1.0</td>\n",
       "      <td>0.0</td>\n",
       "      <td>0.0</td>\n",
       "      <td>0.0</td>\n",
       "      <td>0.0</td>\n",
       "      <td>1.0</td>\n",
       "      <td>0.0</td>\n",
       "      <td>0.0</td>\n",
       "      <td>...</td>\n",
       "      <td>0.0</td>\n",
       "      <td>0.0</td>\n",
       "      <td>0.0</td>\n",
       "      <td>2.0</td>\n",
       "      <td>7127871.0</td>\n",
       "      <td>88.0</td>\n",
       "      <td>3.0</td>\n",
       "      <td>2.0</td>\n",
       "      <td>1.0</td>\n",
       "      <td>2.400000e+08</td>\n",
       "    </tr>\n",
       "    <tr>\n",
       "      <th>2</th>\n",
       "      <td>0.0</td>\n",
       "      <td>1.0</td>\n",
       "      <td>1.0</td>\n",
       "      <td>0.0</td>\n",
       "      <td>0.0</td>\n",
       "      <td>0.0</td>\n",
       "      <td>0.0</td>\n",
       "      <td>0.0</td>\n",
       "      <td>1.0</td>\n",
       "      <td>0.0</td>\n",
       "      <td>...</td>\n",
       "      <td>0.0</td>\n",
       "      <td>0.0</td>\n",
       "      <td>0.0</td>\n",
       "      <td>3.0</td>\n",
       "      <td>7187797.0</td>\n",
       "      <td>104.0</td>\n",
       "      <td>3.0</td>\n",
       "      <td>1.0</td>\n",
       "      <td>0.0</td>\n",
       "      <td>7.000000e+07</td>\n",
       "    </tr>\n",
       "    <tr>\n",
       "      <th>3</th>\n",
       "      <td>0.0</td>\n",
       "      <td>1.0</td>\n",
       "      <td>1.0</td>\n",
       "      <td>0.0</td>\n",
       "      <td>0.0</td>\n",
       "      <td>0.0</td>\n",
       "      <td>0.0</td>\n",
       "      <td>0.0</td>\n",
       "      <td>1.0</td>\n",
       "      <td>0.0</td>\n",
       "      <td>...</td>\n",
       "      <td>0.0</td>\n",
       "      <td>0.0</td>\n",
       "      <td>0.0</td>\n",
       "      <td>4.0</td>\n",
       "      <td>7037686.0</td>\n",
       "      <td>600.0</td>\n",
       "      <td>3.0</td>\n",
       "      <td>5.0</td>\n",
       "      <td>0.0</td>\n",
       "      <td>1.200000e+09</td>\n",
       "    </tr>\n",
       "    <tr>\n",
       "      <th>4</th>\n",
       "      <td>0.0</td>\n",
       "      <td>1.0</td>\n",
       "      <td>1.0</td>\n",
       "      <td>0.0</td>\n",
       "      <td>0.0</td>\n",
       "      <td>0.0</td>\n",
       "      <td>0.0</td>\n",
       "      <td>0.0</td>\n",
       "      <td>1.0</td>\n",
       "      <td>0.0</td>\n",
       "      <td>...</td>\n",
       "      <td>0.0</td>\n",
       "      <td>0.0</td>\n",
       "      <td>0.0</td>\n",
       "      <td>5.0</td>\n",
       "      <td>7162861.0</td>\n",
       "      <td>4.0</td>\n",
       "      <td>3.0</td>\n",
       "      <td>3.0</td>\n",
       "      <td>1.0</td>\n",
       "      <td>3.500000e+08</td>\n",
       "    </tr>\n",
       "  </tbody>\n",
       "</table>\n",
       "<p>5 rows × 170 columns</p>\n",
       "</div>"
      ],
      "text/plain": [
       "   c_Usado  c_Inmobiliaria  e_1  e_2  e_3  e_4  e_5  p_Casa  p_Apartamento  \\\n",
       "0      0.0             1.0  1.0  0.0  0.0  0.0  0.0     0.0            1.0   \n",
       "1      0.0             1.0  1.0  0.0  0.0  0.0  0.0     1.0            0.0   \n",
       "2      0.0             1.0  1.0  0.0  0.0  0.0  0.0     0.0            1.0   \n",
       "3      0.0             1.0  1.0  0.0  0.0  0.0  0.0     0.0            1.0   \n",
       "4      0.0             1.0  1.0  0.0  0.0  0.0  0.0     0.0            1.0   \n",
       "\n",
       "   n_Villa Sevilla  ...  n_Santa Mónica  n_La Castellana  n_7 de agosto  \\\n",
       "0              0.0  ...             0.0              0.0            0.0   \n",
       "1              0.0  ...             0.0              0.0            0.0   \n",
       "2              0.0  ...             0.0              0.0            0.0   \n",
       "3              0.0  ...             0.0              0.0            0.0   \n",
       "4              0.0  ...             0.0              0.0            0.0   \n",
       "\n",
       "   index    post_id   Area  bedrooms  bathrooms  garages         Price  \n",
       "0    1.0  7172619.0  224.0       3.0        1.0      0.0  2.500000e+08  \n",
       "1    2.0  7127871.0   88.0       3.0        2.0      1.0  2.400000e+08  \n",
       "2    3.0  7187797.0  104.0       3.0        1.0      0.0  7.000000e+07  \n",
       "3    4.0  7037686.0  600.0       3.0        5.0      0.0  1.200000e+09  \n",
       "4    5.0  7162861.0    4.0       3.0        3.0      1.0  3.500000e+08  \n",
       "\n",
       "[5 rows x 170 columns]"
      ]
     },
     "execution_count": 458,
     "metadata": {},
     "output_type": "execute_result"
    }
   ],
   "source": [
    "df_encoded.data_source.head()"
   ]
  },
  {
   "cell_type": "code",
   "execution_count": 439,
   "metadata": {},
   "outputs": [],
   "source": [
    "df_encoded.data_source.to_csv('df_posts_housing_clean_encoded.csv', index=False, encoding='utf-8')"
   ]
  },
  {
   "cell_type": "code",
   "execution_count": 456,
   "metadata": {},
   "outputs": [
    {
     "name": "stdout",
     "output_type": "stream",
     "text": [
      "# Rows  6321 # Columns  170\n",
      "\n",
      " Columns \n",
      " ['c_Usado', 'c_Inmobiliaria', 'e_1', 'e_2', 'e_3', 'e_4', 'e_5', 'p_Casa', 'p_Apartamento', 'n_Villa Sevilla', 'n_El Prado', 'n_El Bosque', 'n_Altos del Prado', 'n_Paraíso', 'n_Alameda del Rio', 'n_Las Terrazas', 'n_San Luis', 'n_Las Américas', 'n_Los Almendros', 'n_Caribe Verde', 'n_Santa María', 'n_Ciudad Jardín', 'n_Villa del Carmen', 'n_Soledad 2000', 'n_Villas San Pablo', 'n_Villa de las Moras', 'n_Ciudad Caribe', 'n_Riomar', 'n_Altos del Limón', 'n_La Florida', 'n_Las Granjas', 'n_Lucero', 'n_Los Laureles', 'n_El Santuario', 'n_Villa María', 'n_Carrizal', 'n_Los Girasoles', 'n_Carlos Meisel', 'n_7 de Abril.', 'n_Ciudad Modesto', 'n_Miramar', 'n_Villa San Pedro I y II', 'n_Santo Domingo de Guzmán', 'n_Norte-Centro Histórico', 'n_Barranquilla', 'n_El Rubí', 'n_José Antonio Galán', 'n_El Limón', 'n_Los Cocos', 'n_Las Nieves', 'n_Las Moras', 'n_El Rosario', 'n_El Campito', 'n_Moderno', 'n_San José', 'n_La Sierra', 'n_Las Colinas', 'n_Las Estrellas', 'n_Las Cayenas', 'n_San Nicolás', 'n_El Hipódromo', 'n_San Felipe', 'n_El Parque', 'n_El Manantial', 'n_Urbanización Eduardo santos la playa', 'n_Ciudadela Metropolitan', 'n_Olaya', 'n_Las Trinitarias', 'n_Los Trupillos', 'n_Adela de Char', 'n_Costa Hermosa', 'n_Ciudadela Metropolitana', 'n_Villa Olimpica', 'n_Adelita de Char Etp. 3', 'n_Los Robles', 'n_Adelita de Char Etp. 2', 'n_Ciudadela 20 de Julio', 'n_Vista Hermosa', 'n_La Unión', 'n_Centro', 'n_Montes', 'n_La Alboraya', 'n_El Pueblo', 'n_El Valle', 'n_Tayrona', 'n_soledad', 'n_Las Palmas', 'n_Los Olivos I y II', 'n_Universal I y II', 'n_San Salvador', 'n_La Ceiba', 'n_Kennedy', 'n_Pasadena', 'n_San Isidro', 'n_La Victoria', 'n_El Silencio', 'n_Simón Bolívar', 'n_Oriental', 'n_La Sierrita', 'n_San Roque', 'n_La Pradera', 'n_Villa Campestre', 'n_Buena Esperanza', 'n_Los Continentes', 'n_Chiquinquirá', 'n_Cordialidad', 'n_El Golf', 'n_Puerta Dorada', 'n_20 de julio', 'n_Campo Alegre', 'n_San Francisco', 'n_Barrio Abajo', 'n_El Tabor', 'n_Los Andes', 'n_Boston', 'n_Las Delicias', 'n_El Recreo', 'n_Los Pinos', 'n_El Carmen', 'n_Betania', 'n_Los Nogales', 'n_Cevillar', 'n_La Campiña', 'n_Pradomar', 'n_Las Mercedes', 'n_El Castillo', 'n_La Floresta', 'n_La Concepción', 'n_El Limoncito', 'n_circunvalar', 'n_Villa Santos', 'n_La Magdalena', 'n_suroccidente', 'n_Villa Country', 'n_Villa Carolina', 'n_Nuevo Horizonte', 'n_Andalucía', 'n_San Marino', 'n_Alfonso López', 'n_Nueva Esperanza', 'n_Altos de Riomar', 'n_Modelo', 'n_Colombia', 'n_El Porvenir', 'n_Bellavista', 'n_Santa Ana', 'n_Montecristo', 'n_Las Tres Avemarías', 'n_Barranquillita', 'n_Los Alpes', 'n_Villamar', 'n_Los Jobos', 'n_La Cumbre', 'n_Villa del Este', 'n_Buenavista', 'n_Granadillo', 'n_San Vicente', 'n_Las Mercedes Sur', 'n_Puerto Colombia', 'n_Altamira', 'n_Santa Mónica', 'n_La Castellana', 'n_7 de agosto', 'index', 'post_id', 'Area', 'bedrooms', 'bathrooms', 'garages', 'Price']\n",
      "\n",
      " Nullls  15267\n",
      "\n",
      " Unique values \n",
      " c_Usado             2\n",
      "c_Inmobiliaria      2\n",
      "e_1                 2\n",
      "e_2                 2\n",
      "e_3                 2\n",
      "                 ... \n",
      "Area              461\n",
      "bedrooms           19\n",
      "bathrooms          11\n",
      "garages            10\n",
      "Price             546\n",
      "Length: 170, dtype: int64\n",
      "(6321, 170)\n"
     ]
    }
   ],
   "source": [
    "print(\"# Rows \", df_encoded.data_source.shape[0],\"# Columns \", df_encoded.data_source.shape[1])\n",
    "print(\"\\n Columns \\n\", df_encoded.data_source.columns.tolist())\n",
    "print(\"\\n Nullls \",df_encoded.data_source.isnull().sum().values.sum())\n",
    "print(\"\\n Unique values \\n\", df_encoded.data_source.nunique())\n",
    "print(df_encoded.data_source.shape)"
   ]
  },
  {
   "cell_type": "code",
   "execution_count": 457,
   "metadata": {},
   "outputs": [
    {
     "data": {
      "text/plain": [
       "Price             2181\n",
       "garages           2181\n",
       "bathrooms         2181\n",
       "bedrooms          2181\n",
       "Area              2181\n",
       "                  ... \n",
       "n_Las Cayenas        0\n",
       "n_San Nicolás        0\n",
       "n_El Hipódromo       0\n",
       "n_San Felipe         0\n",
       "n_soledad            0\n",
       "Length: 170, dtype: int64"
      ]
     },
     "execution_count": 457,
     "metadata": {},
     "output_type": "execute_result"
    }
   ],
   "source": [
    "df_encoded.data_source.isnull().sum().sort_values(ascending=False)"
   ]
  },
  {
   "cell_type": "code",
   "execution_count": 454,
   "metadata": {},
   "outputs": [
    {
     "data": {
      "text/plain": [
       "2181"
      ]
     },
     "execution_count": 454,
     "metadata": {},
     "output_type": "execute_result"
    }
   ],
   "source": [
    "df_encoded.data_source['Price'].isnull().sum()"
   ]
  },
  {
   "cell_type": "code",
   "execution_count": 443,
   "metadata": {},
   "outputs": [],
   "source": [
    "#modeling "
   ]
  },
  {
   "cell_type": "code",
   "execution_count": 444,
   "metadata": {},
   "outputs": [],
   "source": [
    "from sklearn.linear_model import LinearRegression"
   ]
  },
  {
   "cell_type": "code",
   "execution_count": 447,
   "metadata": {},
   "outputs": [],
   "source": [
    "class Predictor():\n",
    "    def __init__(self,source_model,data):\n",
    "        self.source_model = source_model\n",
    "        self.data = data\n",
    "        self.get_data()\n",
    "        if(self.source_model == 'linear_regression'):\n",
    "            self.linear_regression()\n",
    "    def get_data(self):\n",
    "        self.data.split_data(0.03)\n",
    "        self.x_train = self.data.data_subset_train\n",
    "        self.y_train = self.data.price_subset_train\n",
    "        self.x_test = self.data.data_subset_test\n",
    "        self.y_test = self.data.price_subset_test\n",
    "    def linear_regression(self):\n",
    "        has_nan = np.isnan(np.sum(self.data.data_subset_train))\n",
    "        print(has_nan)\n",
    "        has_nan2 = np.isnan(np.sum(self.data.price_subset_train))\n",
    "        print(has_nan2)\n",
    "        self.linear_reg = LinearRegression()\n",
    "        self.linear_reg.fit(self.data.data_subset_train,self.data.price_subset_train)\n",
    "        print(self.linear_reg.score(self.data.data_subset_test,self.data.price_subset_test))   "
   ]
  },
  {
   "cell_type": "code",
   "execution_count": 448,
   "metadata": {},
   "outputs": [
    {
     "name": "stdout",
     "output_type": "stream",
     "text": [
      "True\n",
      "True\n"
     ]
    },
    {
     "ename": "ValueError",
     "evalue": "Input contains NaN, infinity or a value too large for dtype('float64').",
     "output_type": "error",
     "traceback": [
      "\u001b[1;31m---------------------------------------------------------------------------\u001b[0m",
      "\u001b[1;31mValueError\u001b[0m                                Traceback (most recent call last)",
      "\u001b[1;32m<ipython-input-448-52feeb3a7f52>\u001b[0m in \u001b[0;36m<module>\u001b[1;34m\u001b[0m\n\u001b[1;32m----> 1\u001b[1;33m \u001b[0mlr\u001b[0m \u001b[1;33m=\u001b[0m \u001b[0mPredictor\u001b[0m\u001b[1;33m(\u001b[0m\u001b[1;34m'linear_regression'\u001b[0m\u001b[1;33m,\u001b[0m\u001b[0mdf_encoded\u001b[0m\u001b[1;33m)\u001b[0m\u001b[1;33m\u001b[0m\u001b[1;33m\u001b[0m\u001b[0m\n\u001b[0m",
      "\u001b[1;32m<ipython-input-447-c2aad42bb3b4>\u001b[0m in \u001b[0;36m__init__\u001b[1;34m(self, source_model, data)\u001b[0m\n\u001b[0;32m      5\u001b[0m         \u001b[0mself\u001b[0m\u001b[1;33m.\u001b[0m\u001b[0mget_data\u001b[0m\u001b[1;33m(\u001b[0m\u001b[1;33m)\u001b[0m\u001b[1;33m\u001b[0m\u001b[1;33m\u001b[0m\u001b[0m\n\u001b[0;32m      6\u001b[0m         \u001b[1;32mif\u001b[0m\u001b[1;33m(\u001b[0m\u001b[0mself\u001b[0m\u001b[1;33m.\u001b[0m\u001b[0msource_model\u001b[0m \u001b[1;33m==\u001b[0m \u001b[1;34m'linear_regression'\u001b[0m\u001b[1;33m)\u001b[0m\u001b[1;33m:\u001b[0m\u001b[1;33m\u001b[0m\u001b[1;33m\u001b[0m\u001b[0m\n\u001b[1;32m----> 7\u001b[1;33m             \u001b[0mself\u001b[0m\u001b[1;33m.\u001b[0m\u001b[0mlinear_regression\u001b[0m\u001b[1;33m(\u001b[0m\u001b[1;33m)\u001b[0m\u001b[1;33m\u001b[0m\u001b[1;33m\u001b[0m\u001b[0m\n\u001b[0m\u001b[0;32m      8\u001b[0m     \u001b[1;32mdef\u001b[0m \u001b[0mget_data\u001b[0m\u001b[1;33m(\u001b[0m\u001b[0mself\u001b[0m\u001b[1;33m)\u001b[0m\u001b[1;33m:\u001b[0m\u001b[1;33m\u001b[0m\u001b[1;33m\u001b[0m\u001b[0m\n\u001b[0;32m      9\u001b[0m         \u001b[0mself\u001b[0m\u001b[1;33m.\u001b[0m\u001b[0mdata\u001b[0m\u001b[1;33m.\u001b[0m\u001b[0msplit_data\u001b[0m\u001b[1;33m(\u001b[0m\u001b[1;36m0.03\u001b[0m\u001b[1;33m)\u001b[0m\u001b[1;33m\u001b[0m\u001b[1;33m\u001b[0m\u001b[0m\n",
      "\u001b[1;32m<ipython-input-447-c2aad42bb3b4>\u001b[0m in \u001b[0;36mlinear_regression\u001b[1;34m(self)\u001b[0m\n\u001b[0;32m     18\u001b[0m         \u001b[0mprint\u001b[0m\u001b[1;33m(\u001b[0m\u001b[0mhas_nan2\u001b[0m\u001b[1;33m)\u001b[0m\u001b[1;33m\u001b[0m\u001b[1;33m\u001b[0m\u001b[0m\n\u001b[0;32m     19\u001b[0m         \u001b[0mself\u001b[0m\u001b[1;33m.\u001b[0m\u001b[0mlinear_reg\u001b[0m \u001b[1;33m=\u001b[0m \u001b[0mLinearRegression\u001b[0m\u001b[1;33m(\u001b[0m\u001b[1;33m)\u001b[0m\u001b[1;33m\u001b[0m\u001b[1;33m\u001b[0m\u001b[0m\n\u001b[1;32m---> 20\u001b[1;33m         \u001b[0mself\u001b[0m\u001b[1;33m.\u001b[0m\u001b[0mlinear_reg\u001b[0m\u001b[1;33m.\u001b[0m\u001b[0mfit\u001b[0m\u001b[1;33m(\u001b[0m\u001b[0mself\u001b[0m\u001b[1;33m.\u001b[0m\u001b[0mdata\u001b[0m\u001b[1;33m.\u001b[0m\u001b[0mdata_subset_train\u001b[0m\u001b[1;33m,\u001b[0m\u001b[0mself\u001b[0m\u001b[1;33m.\u001b[0m\u001b[0mdata\u001b[0m\u001b[1;33m.\u001b[0m\u001b[0mprice_subset_train\u001b[0m\u001b[1;33m)\u001b[0m\u001b[1;33m\u001b[0m\u001b[1;33m\u001b[0m\u001b[0m\n\u001b[0m\u001b[0;32m     21\u001b[0m         \u001b[0mprint\u001b[0m\u001b[1;33m(\u001b[0m\u001b[0mself\u001b[0m\u001b[1;33m.\u001b[0m\u001b[0mlinear_reg\u001b[0m\u001b[1;33m.\u001b[0m\u001b[0mscore\u001b[0m\u001b[1;33m(\u001b[0m\u001b[0mself\u001b[0m\u001b[1;33m.\u001b[0m\u001b[0mdata\u001b[0m\u001b[1;33m.\u001b[0m\u001b[0mdata_subset_test\u001b[0m\u001b[1;33m,\u001b[0m\u001b[0mself\u001b[0m\u001b[1;33m.\u001b[0m\u001b[0mdata\u001b[0m\u001b[1;33m.\u001b[0m\u001b[0mprice_subset_test\u001b[0m\u001b[1;33m)\u001b[0m\u001b[1;33m)\u001b[0m\u001b[1;33m\u001b[0m\u001b[1;33m\u001b[0m\u001b[0m\n",
      "\u001b[1;32m~\\anaconda3\\lib\\site-packages\\sklearn\\linear_model\\_base.py\u001b[0m in \u001b[0;36mfit\u001b[1;34m(self, X, y, sample_weight)\u001b[0m\n\u001b[0;32m    490\u001b[0m         \u001b[0mn_jobs_\u001b[0m \u001b[1;33m=\u001b[0m \u001b[0mself\u001b[0m\u001b[1;33m.\u001b[0m\u001b[0mn_jobs\u001b[0m\u001b[1;33m\u001b[0m\u001b[1;33m\u001b[0m\u001b[0m\n\u001b[0;32m    491\u001b[0m         X, y = check_X_y(X, y, accept_sparse=['csr', 'csc', 'coo'],\n\u001b[1;32m--> 492\u001b[1;33m                          y_numeric=True, multi_output=True)\n\u001b[0m\u001b[0;32m    493\u001b[0m \u001b[1;33m\u001b[0m\u001b[0m\n\u001b[0;32m    494\u001b[0m         \u001b[1;32mif\u001b[0m \u001b[0msample_weight\u001b[0m \u001b[1;32mis\u001b[0m \u001b[1;32mnot\u001b[0m \u001b[1;32mNone\u001b[0m\u001b[1;33m:\u001b[0m\u001b[1;33m\u001b[0m\u001b[1;33m\u001b[0m\u001b[0m\n",
      "\u001b[1;32m~\\anaconda3\\lib\\site-packages\\sklearn\\utils\\validation.py\u001b[0m in \u001b[0;36mcheck_X_y\u001b[1;34m(X, y, accept_sparse, accept_large_sparse, dtype, order, copy, force_all_finite, ensure_2d, allow_nd, multi_output, ensure_min_samples, ensure_min_features, y_numeric, warn_on_dtype, estimator)\u001b[0m\n\u001b[0;32m    753\u001b[0m                     \u001b[0mensure_min_features\u001b[0m\u001b[1;33m=\u001b[0m\u001b[0mensure_min_features\u001b[0m\u001b[1;33m,\u001b[0m\u001b[1;33m\u001b[0m\u001b[1;33m\u001b[0m\u001b[0m\n\u001b[0;32m    754\u001b[0m                     \u001b[0mwarn_on_dtype\u001b[0m\u001b[1;33m=\u001b[0m\u001b[0mwarn_on_dtype\u001b[0m\u001b[1;33m,\u001b[0m\u001b[1;33m\u001b[0m\u001b[1;33m\u001b[0m\u001b[0m\n\u001b[1;32m--> 755\u001b[1;33m                     estimator=estimator)\n\u001b[0m\u001b[0;32m    756\u001b[0m     \u001b[1;32mif\u001b[0m \u001b[0mmulti_output\u001b[0m\u001b[1;33m:\u001b[0m\u001b[1;33m\u001b[0m\u001b[1;33m\u001b[0m\u001b[0m\n\u001b[0;32m    757\u001b[0m         y = check_array(y, 'csr', force_all_finite=True, ensure_2d=False,\n",
      "\u001b[1;32m~\\anaconda3\\lib\\site-packages\\sklearn\\utils\\validation.py\u001b[0m in \u001b[0;36mcheck_array\u001b[1;34m(array, accept_sparse, accept_large_sparse, dtype, order, copy, force_all_finite, ensure_2d, allow_nd, ensure_min_samples, ensure_min_features, warn_on_dtype, estimator)\u001b[0m\n\u001b[0;32m    576\u001b[0m         \u001b[1;32mif\u001b[0m \u001b[0mforce_all_finite\u001b[0m\u001b[1;33m:\u001b[0m\u001b[1;33m\u001b[0m\u001b[1;33m\u001b[0m\u001b[0m\n\u001b[0;32m    577\u001b[0m             _assert_all_finite(array,\n\u001b[1;32m--> 578\u001b[1;33m                                allow_nan=force_all_finite == 'allow-nan')\n\u001b[0m\u001b[0;32m    579\u001b[0m \u001b[1;33m\u001b[0m\u001b[0m\n\u001b[0;32m    580\u001b[0m     \u001b[1;32mif\u001b[0m \u001b[0mensure_min_samples\u001b[0m \u001b[1;33m>\u001b[0m \u001b[1;36m0\u001b[0m\u001b[1;33m:\u001b[0m\u001b[1;33m\u001b[0m\u001b[1;33m\u001b[0m\u001b[0m\n",
      "\u001b[1;32m~\\anaconda3\\lib\\site-packages\\sklearn\\utils\\validation.py\u001b[0m in \u001b[0;36m_assert_all_finite\u001b[1;34m(X, allow_nan, msg_dtype)\u001b[0m\n\u001b[0;32m     58\u001b[0m                     \u001b[0mmsg_err\u001b[0m\u001b[1;33m.\u001b[0m\u001b[0mformat\u001b[0m\u001b[1;33m\u001b[0m\u001b[1;33m\u001b[0m\u001b[0m\n\u001b[0;32m     59\u001b[0m                     (type_err,\n\u001b[1;32m---> 60\u001b[1;33m                      msg_dtype if msg_dtype is not None else X.dtype)\n\u001b[0m\u001b[0;32m     61\u001b[0m             )\n\u001b[0;32m     62\u001b[0m     \u001b[1;31m# for object dtype data, we only check for NaNs (GH-13254)\u001b[0m\u001b[1;33m\u001b[0m\u001b[1;33m\u001b[0m\u001b[1;33m\u001b[0m\u001b[0m\n",
      "\u001b[1;31mValueError\u001b[0m: Input contains NaN, infinity or a value too large for dtype('float64')."
     ]
    }
   ],
   "source": [
    "lr = Predictor('linear_regression',df_encoded)"
   ]
  },
  {
   "cell_type": "code",
   "execution_count": 307,
   "metadata": {},
   "outputs": [
    {
     "data": {
      "text/plain": [
       "<bound method Predictor.get_model_lr of <__main__.Predictor object at 0x000002790E223988>>"
      ]
     },
     "execution_count": 307,
     "metadata": {},
     "output_type": "execute_result"
    }
   ],
   "source": [
    "lr.get_data\n",
    "lr.get_model_lr"
   ]
  },
  {
   "cell_type": "raw",
   "metadata": {},
   "source": [
    "lr.score"
   ]
  },
  {
   "cell_type": "code",
   "execution_count": 316,
   "metadata": {},
   "outputs": [
    {
     "data": {
      "text/plain": [
       "<bound method Predictor.get_model_lr of <__main__.Predictor object at 0x000002790E223988>>"
      ]
     },
     "execution_count": 316,
     "metadata": {},
     "output_type": "execute_result"
    }
   ],
   "source": [
    "lr.get_model_lr"
   ]
  },
  {
   "cell_type": "code",
   "execution_count": null,
   "metadata": {},
   "outputs": [],
   "source": [
    "df.encoded.data"
   ]
  },
  {
   "cell_type": "code",
   "execution_count": 354,
   "metadata": {},
   "outputs": [],
   "source": [
    "model = RandomForestRegressor(n_estimators=100, random_state=0)"
   ]
  },
  {
   "cell_type": "code",
   "execution_count": 356,
   "metadata": {},
   "outputs": [
    {
     "ename": "ValueError",
     "evalue": "Input contains NaN, infinity or a value too large for dtype('float32').",
     "output_type": "error",
     "traceback": [
      "\u001b[1;31m---------------------------------------------------------------------------\u001b[0m",
      "\u001b[1;31mValueError\u001b[0m                                Traceback (most recent call last)",
      "\u001b[1;32m<ipython-input-356-701b5d37d8dc>\u001b[0m in \u001b[0;36m<module>\u001b[1;34m\u001b[0m\n\u001b[1;32m----> 1\u001b[1;33m \u001b[0mmodel\u001b[0m\u001b[1;33m.\u001b[0m\u001b[0mfit\u001b[0m\u001b[1;33m(\u001b[0m\u001b[0mdf_encoded\u001b[0m\u001b[1;33m.\u001b[0m\u001b[0mdata_subset_train\u001b[0m\u001b[1;33m,\u001b[0m\u001b[0mdf_encoded\u001b[0m\u001b[1;33m.\u001b[0m\u001b[0mprice_subset_train\u001b[0m\u001b[1;33m)\u001b[0m\u001b[1;33m\u001b[0m\u001b[1;33m\u001b[0m\u001b[0m\n\u001b[0m",
      "\u001b[1;32m~\\anaconda3\\lib\\site-packages\\sklearn\\ensemble\\_forest.py\u001b[0m in \u001b[0;36mfit\u001b[1;34m(self, X, y, sample_weight)\u001b[0m\n\u001b[0;32m    293\u001b[0m         \"\"\"\n\u001b[0;32m    294\u001b[0m         \u001b[1;31m# Validate or convert input data\u001b[0m\u001b[1;33m\u001b[0m\u001b[1;33m\u001b[0m\u001b[1;33m\u001b[0m\u001b[0m\n\u001b[1;32m--> 295\u001b[1;33m         \u001b[0mX\u001b[0m \u001b[1;33m=\u001b[0m \u001b[0mcheck_array\u001b[0m\u001b[1;33m(\u001b[0m\u001b[0mX\u001b[0m\u001b[1;33m,\u001b[0m \u001b[0maccept_sparse\u001b[0m\u001b[1;33m=\u001b[0m\u001b[1;34m\"csc\"\u001b[0m\u001b[1;33m,\u001b[0m \u001b[0mdtype\u001b[0m\u001b[1;33m=\u001b[0m\u001b[0mDTYPE\u001b[0m\u001b[1;33m)\u001b[0m\u001b[1;33m\u001b[0m\u001b[1;33m\u001b[0m\u001b[0m\n\u001b[0m\u001b[0;32m    296\u001b[0m         \u001b[0my\u001b[0m \u001b[1;33m=\u001b[0m \u001b[0mcheck_array\u001b[0m\u001b[1;33m(\u001b[0m\u001b[0my\u001b[0m\u001b[1;33m,\u001b[0m \u001b[0maccept_sparse\u001b[0m\u001b[1;33m=\u001b[0m\u001b[1;34m'csc'\u001b[0m\u001b[1;33m,\u001b[0m \u001b[0mensure_2d\u001b[0m\u001b[1;33m=\u001b[0m\u001b[1;32mFalse\u001b[0m\u001b[1;33m,\u001b[0m \u001b[0mdtype\u001b[0m\u001b[1;33m=\u001b[0m\u001b[1;32mNone\u001b[0m\u001b[1;33m)\u001b[0m\u001b[1;33m\u001b[0m\u001b[1;33m\u001b[0m\u001b[0m\n\u001b[0;32m    297\u001b[0m         \u001b[1;32mif\u001b[0m \u001b[0msample_weight\u001b[0m \u001b[1;32mis\u001b[0m \u001b[1;32mnot\u001b[0m \u001b[1;32mNone\u001b[0m\u001b[1;33m:\u001b[0m\u001b[1;33m\u001b[0m\u001b[1;33m\u001b[0m\u001b[0m\n",
      "\u001b[1;32m~\\anaconda3\\lib\\site-packages\\sklearn\\utils\\validation.py\u001b[0m in \u001b[0;36mcheck_array\u001b[1;34m(array, accept_sparse, accept_large_sparse, dtype, order, copy, force_all_finite, ensure_2d, allow_nd, ensure_min_samples, ensure_min_features, warn_on_dtype, estimator)\u001b[0m\n\u001b[0;32m    576\u001b[0m         \u001b[1;32mif\u001b[0m \u001b[0mforce_all_finite\u001b[0m\u001b[1;33m:\u001b[0m\u001b[1;33m\u001b[0m\u001b[1;33m\u001b[0m\u001b[0m\n\u001b[0;32m    577\u001b[0m             _assert_all_finite(array,\n\u001b[1;32m--> 578\u001b[1;33m                                allow_nan=force_all_finite == 'allow-nan')\n\u001b[0m\u001b[0;32m    579\u001b[0m \u001b[1;33m\u001b[0m\u001b[0m\n\u001b[0;32m    580\u001b[0m     \u001b[1;32mif\u001b[0m \u001b[0mensure_min_samples\u001b[0m \u001b[1;33m>\u001b[0m \u001b[1;36m0\u001b[0m\u001b[1;33m:\u001b[0m\u001b[1;33m\u001b[0m\u001b[1;33m\u001b[0m\u001b[0m\n",
      "\u001b[1;32m~\\anaconda3\\lib\\site-packages\\sklearn\\utils\\validation.py\u001b[0m in \u001b[0;36m_assert_all_finite\u001b[1;34m(X, allow_nan, msg_dtype)\u001b[0m\n\u001b[0;32m     58\u001b[0m                     \u001b[0mmsg_err\u001b[0m\u001b[1;33m.\u001b[0m\u001b[0mformat\u001b[0m\u001b[1;33m\u001b[0m\u001b[1;33m\u001b[0m\u001b[0m\n\u001b[0;32m     59\u001b[0m                     (type_err,\n\u001b[1;32m---> 60\u001b[1;33m                      msg_dtype if msg_dtype is not None else X.dtype)\n\u001b[0m\u001b[0;32m     61\u001b[0m             )\n\u001b[0;32m     62\u001b[0m     \u001b[1;31m# for object dtype data, we only check for NaNs (GH-13254)\u001b[0m\u001b[1;33m\u001b[0m\u001b[1;33m\u001b[0m\u001b[1;33m\u001b[0m\u001b[0m\n",
      "\u001b[1;31mValueError\u001b[0m: Input contains NaN, infinity or a value too large for dtype('float32')."
     ]
    }
   ],
   "source": [
    "model.fit(df_encoded.data_subset_train,df_encoded.price_subset_train)"
   ]
  },
  {
   "cell_type": "code",
   "execution_count": 359,
   "metadata": {},
   "outputs": [
    {
     "data": {
      "text/plain": [
       "Index(['index', 'post_id', 'Area', 'bedrooms', 'bathrooms', 'garages', 'Price',\n",
       "       'c_Usado', 'c_Inmobiliaria', 'e_1',\n",
       "       ...\n",
       "       'n_Villa del Este', 'n_Buenavista', 'n_Granadillo', 'n_San Vicente',\n",
       "       'n_Las Mercedes Sur', 'n_Puerto Colombia', 'n_Altamira',\n",
       "       'n_Santa Mónica', 'n_La Castellana', 'n_7 de agosto'],\n",
       "      dtype='object', length=170)"
      ]
     },
     "execution_count": 359,
     "metadata": {},
     "output_type": "execute_result"
    }
   ],
   "source": [
    "df_encoded.data_source.columns"
   ]
  },
  {
   "cell_type": "code",
   "execution_count": null,
   "metadata": {},
   "outputs": [],
   "source": []
  }
 ],
 "metadata": {
  "kernelspec": {
   "display_name": "Python 3",
   "language": "python",
   "name": "python3"
  },
  "language_info": {
   "codemirror_mode": {
    "name": "ipython",
    "version": 3
   },
   "file_extension": ".py",
   "mimetype": "text/x-python",
   "name": "python",
   "nbconvert_exporter": "python",
   "pygments_lexer": "ipython3",
   "version": "3.7.6"
  }
 },
 "nbformat": 4,
 "nbformat_minor": 4
}
